{
 "cells": [
  {
   "cell_type": "markdown",
   "id": "constant-wayne",
   "metadata": {
    "papermill": {
     "duration": 0.063992,
     "end_time": "2021-06-14T20:15:31.314440",
     "exception": false,
     "start_time": "2021-06-14T20:15:31.250448",
     "status": "completed"
    },
    "tags": []
   },
   "source": [
    "# Overview\n",
    "\n",
    "This notebook covers step by step process of builing a Machine Learning model to predict House price. It will also covers every important steps one need to take when building a Machine Learning model like \n",
    "\n",
    "    1. Undestanding the problem\n",
    "    2. EDA\n",
    "    3. Data Preprocessing\n",
    "    4. Feature Selection  \n",
    "    5. Modeling \n",
    "    6. Evaluation."
   ]
  },
  {
   "cell_type": "markdown",
   "id": "conventional-nepal",
   "metadata": {
    "papermill": {
     "duration": 0.059528,
     "end_time": "2021-06-14T20:15:31.433698",
     "exception": false,
     "start_time": "2021-06-14T20:15:31.374170",
     "status": "completed"
    },
    "tags": []
   },
   "source": [
    "## Understanding the problem\n",
    "\n",
    "A dataset was given which has 79 explanatory variables describing (almost) every aspect of residential homes. We need to find prices of new houses using Machine Learning. "
   ]
  },
  {
   "cell_type": "code",
   "execution_count": 1,
   "id": "floating-police",
   "metadata": {
    "execution": {
     "iopub.execute_input": "2021-06-14T20:15:31.556375Z",
     "iopub.status.busy": "2021-06-14T20:15:31.555233Z",
     "iopub.status.idle": "2021-06-14T20:15:32.384623Z",
     "shell.execute_reply": "2021-06-14T20:15:32.383094Z",
     "shell.execute_reply.started": "2021-06-14T18:55:04.916500Z"
    },
    "papermill": {
     "duration": 0.891415,
     "end_time": "2021-06-14T20:15:32.384852",
     "exception": false,
     "start_time": "2021-06-14T20:15:31.493437",
     "status": "completed"
    },
    "tags": []
   },
   "outputs": [],
   "source": [
    "# basic library import section\n",
    "import numpy as np\n",
    "import pandas as pd\n",
    "import matplotlib.pyplot as plt\n",
    "import seaborn as sns\n",
    "import warnings\n",
    "warnings.filterwarnings('ignore')"
   ]
  },
  {
   "cell_type": "code",
   "execution_count": 2,
   "id": "retired-academy",
   "metadata": {
    "execution": {
     "iopub.execute_input": "2021-06-14T20:15:32.521255Z",
     "iopub.status.busy": "2021-06-14T20:15:32.520558Z",
     "iopub.status.idle": "2021-06-14T20:15:32.595571Z",
     "shell.execute_reply": "2021-06-14T20:15:32.596153Z",
     "shell.execute_reply.started": "2021-06-14T20:10:18.592291Z"
    },
    "papermill": {
     "duration": 0.140507,
     "end_time": "2021-06-14T20:15:32.596346",
     "exception": false,
     "start_time": "2021-06-14T20:15:32.455839",
     "status": "completed"
    },
    "tags": []
   },
   "outputs": [],
   "source": [
    "# loading our two required dataset\n",
    "train = pd.read_csv('../input/house-prices-advanced-regression-techniques/train.csv')\n",
    "test = pd.read_csv('../input/house-prices-advanced-regression-techniques/test.csv')"
   ]
  },
  {
   "cell_type": "code",
   "execution_count": 3,
   "id": "failing-bench",
   "metadata": {
    "execution": {
     "iopub.execute_input": "2021-06-14T20:15:32.718376Z",
     "iopub.status.busy": "2021-06-14T20:15:32.717706Z",
     "iopub.status.idle": "2021-06-14T20:15:32.724557Z",
     "shell.execute_reply": "2021-06-14T20:15:32.725112Z",
     "shell.execute_reply.started": "2021-06-14T18:55:20.341411Z"
    },
    "papermill": {
     "duration": 0.06935,
     "end_time": "2021-06-14T20:15:32.725293",
     "exception": false,
     "start_time": "2021-06-14T20:15:32.655943",
     "status": "completed"
    },
    "tags": []
   },
   "outputs": [
    {
     "data": {
      "text/plain": [
       "((1460, 81), (1459, 80))"
      ]
     },
     "execution_count": 3,
     "metadata": {},
     "output_type": "execute_result"
    }
   ],
   "source": [
    "train.shape, test.shape"
   ]
  },
  {
   "cell_type": "code",
   "execution_count": 4,
   "id": "north-harvard",
   "metadata": {
    "execution": {
     "iopub.execute_input": "2021-06-14T20:15:32.849965Z",
     "iopub.status.busy": "2021-06-14T20:15:32.849273Z",
     "iopub.status.idle": "2021-06-14T20:15:32.888439Z",
     "shell.execute_reply": "2021-06-14T20:15:32.888951Z",
     "shell.execute_reply.started": "2021-06-14T18:55:22.492703Z"
    },
    "papermill": {
     "duration": 0.102847,
     "end_time": "2021-06-14T20:15:32.889119",
     "exception": false,
     "start_time": "2021-06-14T20:15:32.786272",
     "status": "completed"
    },
    "tags": []
   },
   "outputs": [
    {
     "data": {
      "text/html": [
       "<div>\n",
       "<style scoped>\n",
       "    .dataframe tbody tr th:only-of-type {\n",
       "        vertical-align: middle;\n",
       "    }\n",
       "\n",
       "    .dataframe tbody tr th {\n",
       "        vertical-align: top;\n",
       "    }\n",
       "\n",
       "    .dataframe thead th {\n",
       "        text-align: right;\n",
       "    }\n",
       "</style>\n",
       "<table border=\"1\" class=\"dataframe\">\n",
       "  <thead>\n",
       "    <tr style=\"text-align: right;\">\n",
       "      <th></th>\n",
       "      <th>Id</th>\n",
       "      <th>MSSubClass</th>\n",
       "      <th>MSZoning</th>\n",
       "      <th>LotFrontage</th>\n",
       "      <th>LotArea</th>\n",
       "      <th>Street</th>\n",
       "      <th>Alley</th>\n",
       "      <th>LotShape</th>\n",
       "      <th>LandContour</th>\n",
       "      <th>Utilities</th>\n",
       "      <th>...</th>\n",
       "      <th>PoolArea</th>\n",
       "      <th>PoolQC</th>\n",
       "      <th>Fence</th>\n",
       "      <th>MiscFeature</th>\n",
       "      <th>MiscVal</th>\n",
       "      <th>MoSold</th>\n",
       "      <th>YrSold</th>\n",
       "      <th>SaleType</th>\n",
       "      <th>SaleCondition</th>\n",
       "      <th>SalePrice</th>\n",
       "    </tr>\n",
       "  </thead>\n",
       "  <tbody>\n",
       "    <tr>\n",
       "      <th>0</th>\n",
       "      <td>1</td>\n",
       "      <td>60</td>\n",
       "      <td>RL</td>\n",
       "      <td>65.0</td>\n",
       "      <td>8450</td>\n",
       "      <td>Pave</td>\n",
       "      <td>NaN</td>\n",
       "      <td>Reg</td>\n",
       "      <td>Lvl</td>\n",
       "      <td>AllPub</td>\n",
       "      <td>...</td>\n",
       "      <td>0</td>\n",
       "      <td>NaN</td>\n",
       "      <td>NaN</td>\n",
       "      <td>NaN</td>\n",
       "      <td>0</td>\n",
       "      <td>2</td>\n",
       "      <td>2008</td>\n",
       "      <td>WD</td>\n",
       "      <td>Normal</td>\n",
       "      <td>208500</td>\n",
       "    </tr>\n",
       "    <tr>\n",
       "      <th>1</th>\n",
       "      <td>2</td>\n",
       "      <td>20</td>\n",
       "      <td>RL</td>\n",
       "      <td>80.0</td>\n",
       "      <td>9600</td>\n",
       "      <td>Pave</td>\n",
       "      <td>NaN</td>\n",
       "      <td>Reg</td>\n",
       "      <td>Lvl</td>\n",
       "      <td>AllPub</td>\n",
       "      <td>...</td>\n",
       "      <td>0</td>\n",
       "      <td>NaN</td>\n",
       "      <td>NaN</td>\n",
       "      <td>NaN</td>\n",
       "      <td>0</td>\n",
       "      <td>5</td>\n",
       "      <td>2007</td>\n",
       "      <td>WD</td>\n",
       "      <td>Normal</td>\n",
       "      <td>181500</td>\n",
       "    </tr>\n",
       "    <tr>\n",
       "      <th>2</th>\n",
       "      <td>3</td>\n",
       "      <td>60</td>\n",
       "      <td>RL</td>\n",
       "      <td>68.0</td>\n",
       "      <td>11250</td>\n",
       "      <td>Pave</td>\n",
       "      <td>NaN</td>\n",
       "      <td>IR1</td>\n",
       "      <td>Lvl</td>\n",
       "      <td>AllPub</td>\n",
       "      <td>...</td>\n",
       "      <td>0</td>\n",
       "      <td>NaN</td>\n",
       "      <td>NaN</td>\n",
       "      <td>NaN</td>\n",
       "      <td>0</td>\n",
       "      <td>9</td>\n",
       "      <td>2008</td>\n",
       "      <td>WD</td>\n",
       "      <td>Normal</td>\n",
       "      <td>223500</td>\n",
       "    </tr>\n",
       "    <tr>\n",
       "      <th>3</th>\n",
       "      <td>4</td>\n",
       "      <td>70</td>\n",
       "      <td>RL</td>\n",
       "      <td>60.0</td>\n",
       "      <td>9550</td>\n",
       "      <td>Pave</td>\n",
       "      <td>NaN</td>\n",
       "      <td>IR1</td>\n",
       "      <td>Lvl</td>\n",
       "      <td>AllPub</td>\n",
       "      <td>...</td>\n",
       "      <td>0</td>\n",
       "      <td>NaN</td>\n",
       "      <td>NaN</td>\n",
       "      <td>NaN</td>\n",
       "      <td>0</td>\n",
       "      <td>2</td>\n",
       "      <td>2006</td>\n",
       "      <td>WD</td>\n",
       "      <td>Abnorml</td>\n",
       "      <td>140000</td>\n",
       "    </tr>\n",
       "    <tr>\n",
       "      <th>4</th>\n",
       "      <td>5</td>\n",
       "      <td>60</td>\n",
       "      <td>RL</td>\n",
       "      <td>84.0</td>\n",
       "      <td>14260</td>\n",
       "      <td>Pave</td>\n",
       "      <td>NaN</td>\n",
       "      <td>IR1</td>\n",
       "      <td>Lvl</td>\n",
       "      <td>AllPub</td>\n",
       "      <td>...</td>\n",
       "      <td>0</td>\n",
       "      <td>NaN</td>\n",
       "      <td>NaN</td>\n",
       "      <td>NaN</td>\n",
       "      <td>0</td>\n",
       "      <td>12</td>\n",
       "      <td>2008</td>\n",
       "      <td>WD</td>\n",
       "      <td>Normal</td>\n",
       "      <td>250000</td>\n",
       "    </tr>\n",
       "  </tbody>\n",
       "</table>\n",
       "<p>5 rows × 81 columns</p>\n",
       "</div>"
      ],
      "text/plain": [
       "   Id  MSSubClass MSZoning  LotFrontage  LotArea Street Alley LotShape  \\\n",
       "0   1          60       RL         65.0     8450   Pave   NaN      Reg   \n",
       "1   2          20       RL         80.0     9600   Pave   NaN      Reg   \n",
       "2   3          60       RL         68.0    11250   Pave   NaN      IR1   \n",
       "3   4          70       RL         60.0     9550   Pave   NaN      IR1   \n",
       "4   5          60       RL         84.0    14260   Pave   NaN      IR1   \n",
       "\n",
       "  LandContour Utilities  ... PoolArea PoolQC Fence MiscFeature MiscVal MoSold  \\\n",
       "0         Lvl    AllPub  ...        0    NaN   NaN         NaN       0      2   \n",
       "1         Lvl    AllPub  ...        0    NaN   NaN         NaN       0      5   \n",
       "2         Lvl    AllPub  ...        0    NaN   NaN         NaN       0      9   \n",
       "3         Lvl    AllPub  ...        0    NaN   NaN         NaN       0      2   \n",
       "4         Lvl    AllPub  ...        0    NaN   NaN         NaN       0     12   \n",
       "\n",
       "  YrSold  SaleType  SaleCondition  SalePrice  \n",
       "0   2008        WD         Normal     208500  \n",
       "1   2007        WD         Normal     181500  \n",
       "2   2008        WD         Normal     223500  \n",
       "3   2006        WD        Abnorml     140000  \n",
       "4   2008        WD         Normal     250000  \n",
       "\n",
       "[5 rows x 81 columns]"
      ]
     },
     "execution_count": 4,
     "metadata": {},
     "output_type": "execute_result"
    }
   ],
   "source": [
    "train.head()"
   ]
  },
  {
   "cell_type": "markdown",
   "id": "textile-salvation",
   "metadata": {
    "papermill": {
     "duration": 0.060207,
     "end_time": "2021-06-14T20:15:33.009318",
     "exception": false,
     "start_time": "2021-06-14T20:15:32.949111",
     "status": "completed"
    },
    "tags": []
   },
   "source": [
    "Let's print a concise summary of our train DataFrame."
   ]
  },
  {
   "cell_type": "code",
   "execution_count": 5,
   "id": "suspended-tutorial",
   "metadata": {
    "execution": {
     "iopub.execute_input": "2021-06-14T20:15:33.141585Z",
     "iopub.status.busy": "2021-06-14T20:15:33.140858Z",
     "iopub.status.idle": "2021-06-14T20:15:33.168138Z",
     "shell.execute_reply": "2021-06-14T20:15:33.166564Z",
     "shell.execute_reply.started": "2021-06-14T18:55:25.123379Z"
    },
    "papermill": {
     "duration": 0.098478,
     "end_time": "2021-06-14T20:15:33.168320",
     "exception": false,
     "start_time": "2021-06-14T20:15:33.069842",
     "status": "completed"
    },
    "tags": []
   },
   "outputs": [
    {
     "name": "stdout",
     "output_type": "stream",
     "text": [
      "<class 'pandas.core.frame.DataFrame'>\n",
      "RangeIndex: 1460 entries, 0 to 1459\n",
      "Data columns (total 81 columns):\n",
      " #   Column         Non-Null Count  Dtype  \n",
      "---  ------         --------------  -----  \n",
      " 0   Id             1460 non-null   int64  \n",
      " 1   MSSubClass     1460 non-null   int64  \n",
      " 2   MSZoning       1460 non-null   object \n",
      " 3   LotFrontage    1201 non-null   float64\n",
      " 4   LotArea        1460 non-null   int64  \n",
      " 5   Street         1460 non-null   object \n",
      " 6   Alley          91 non-null     object \n",
      " 7   LotShape       1460 non-null   object \n",
      " 8   LandContour    1460 non-null   object \n",
      " 9   Utilities      1460 non-null   object \n",
      " 10  LotConfig      1460 non-null   object \n",
      " 11  LandSlope      1460 non-null   object \n",
      " 12  Neighborhood   1460 non-null   object \n",
      " 13  Condition1     1460 non-null   object \n",
      " 14  Condition2     1460 non-null   object \n",
      " 15  BldgType       1460 non-null   object \n",
      " 16  HouseStyle     1460 non-null   object \n",
      " 17  OverallQual    1460 non-null   int64  \n",
      " 18  OverallCond    1460 non-null   int64  \n",
      " 19  YearBuilt      1460 non-null   int64  \n",
      " 20  YearRemodAdd   1460 non-null   int64  \n",
      " 21  RoofStyle      1460 non-null   object \n",
      " 22  RoofMatl       1460 non-null   object \n",
      " 23  Exterior1st    1460 non-null   object \n",
      " 24  Exterior2nd    1460 non-null   object \n",
      " 25  MasVnrType     1452 non-null   object \n",
      " 26  MasVnrArea     1452 non-null   float64\n",
      " 27  ExterQual      1460 non-null   object \n",
      " 28  ExterCond      1460 non-null   object \n",
      " 29  Foundation     1460 non-null   object \n",
      " 30  BsmtQual       1423 non-null   object \n",
      " 31  BsmtCond       1423 non-null   object \n",
      " 32  BsmtExposure   1422 non-null   object \n",
      " 33  BsmtFinType1   1423 non-null   object \n",
      " 34  BsmtFinSF1     1460 non-null   int64  \n",
      " 35  BsmtFinType2   1422 non-null   object \n",
      " 36  BsmtFinSF2     1460 non-null   int64  \n",
      " 37  BsmtUnfSF      1460 non-null   int64  \n",
      " 38  TotalBsmtSF    1460 non-null   int64  \n",
      " 39  Heating        1460 non-null   object \n",
      " 40  HeatingQC      1460 non-null   object \n",
      " 41  CentralAir     1460 non-null   object \n",
      " 42  Electrical     1459 non-null   object \n",
      " 43  1stFlrSF       1460 non-null   int64  \n",
      " 44  2ndFlrSF       1460 non-null   int64  \n",
      " 45  LowQualFinSF   1460 non-null   int64  \n",
      " 46  GrLivArea      1460 non-null   int64  \n",
      " 47  BsmtFullBath   1460 non-null   int64  \n",
      " 48  BsmtHalfBath   1460 non-null   int64  \n",
      " 49  FullBath       1460 non-null   int64  \n",
      " 50  HalfBath       1460 non-null   int64  \n",
      " 51  BedroomAbvGr   1460 non-null   int64  \n",
      " 52  KitchenAbvGr   1460 non-null   int64  \n",
      " 53  KitchenQual    1460 non-null   object \n",
      " 54  TotRmsAbvGrd   1460 non-null   int64  \n",
      " 55  Functional     1460 non-null   object \n",
      " 56  Fireplaces     1460 non-null   int64  \n",
      " 57  FireplaceQu    770 non-null    object \n",
      " 58  GarageType     1379 non-null   object \n",
      " 59  GarageYrBlt    1379 non-null   float64\n",
      " 60  GarageFinish   1379 non-null   object \n",
      " 61  GarageCars     1460 non-null   int64  \n",
      " 62  GarageArea     1460 non-null   int64  \n",
      " 63  GarageQual     1379 non-null   object \n",
      " 64  GarageCond     1379 non-null   object \n",
      " 65  PavedDrive     1460 non-null   object \n",
      " 66  WoodDeckSF     1460 non-null   int64  \n",
      " 67  OpenPorchSF    1460 non-null   int64  \n",
      " 68  EnclosedPorch  1460 non-null   int64  \n",
      " 69  3SsnPorch      1460 non-null   int64  \n",
      " 70  ScreenPorch    1460 non-null   int64  \n",
      " 71  PoolArea       1460 non-null   int64  \n",
      " 72  PoolQC         7 non-null      object \n",
      " 73  Fence          281 non-null    object \n",
      " 74  MiscFeature    54 non-null     object \n",
      " 75  MiscVal        1460 non-null   int64  \n",
      " 76  MoSold         1460 non-null   int64  \n",
      " 77  YrSold         1460 non-null   int64  \n",
      " 78  SaleType       1460 non-null   object \n",
      " 79  SaleCondition  1460 non-null   object \n",
      " 80  SalePrice      1460 non-null   int64  \n",
      "dtypes: float64(3), int64(35), object(43)\n",
      "memory usage: 924.0+ KB\n"
     ]
    }
   ],
   "source": [
    "train.info()"
   ]
  },
  {
   "cell_type": "markdown",
   "id": "occupied-robert",
   "metadata": {
    "papermill": {
     "duration": 0.059946,
     "end_time": "2021-06-14T20:15:33.290995",
     "exception": false,
     "start_time": "2021-06-14T20:15:33.231049",
     "status": "completed"
    },
    "tags": []
   },
   "source": [
    "descriptive statistics of our train set"
   ]
  },
  {
   "cell_type": "code",
   "execution_count": 6,
   "id": "knowing-cocktail",
   "metadata": {
    "execution": {
     "iopub.execute_input": "2021-06-14T20:15:33.421205Z",
     "iopub.status.busy": "2021-06-14T20:15:33.420215Z",
     "iopub.status.idle": "2021-06-14T20:15:33.538839Z",
     "shell.execute_reply": "2021-06-14T20:15:33.538219Z",
     "shell.execute_reply.started": "2021-06-14T18:55:29.665914Z"
    },
    "papermill": {
     "duration": 0.187771,
     "end_time": "2021-06-14T20:15:33.538979",
     "exception": false,
     "start_time": "2021-06-14T20:15:33.351208",
     "status": "completed"
    },
    "tags": []
   },
   "outputs": [
    {
     "data": {
      "text/html": [
       "<div>\n",
       "<style scoped>\n",
       "    .dataframe tbody tr th:only-of-type {\n",
       "        vertical-align: middle;\n",
       "    }\n",
       "\n",
       "    .dataframe tbody tr th {\n",
       "        vertical-align: top;\n",
       "    }\n",
       "\n",
       "    .dataframe thead th {\n",
       "        text-align: right;\n",
       "    }\n",
       "</style>\n",
       "<table border=\"1\" class=\"dataframe\">\n",
       "  <thead>\n",
       "    <tr style=\"text-align: right;\">\n",
       "      <th></th>\n",
       "      <th>count</th>\n",
       "      <th>mean</th>\n",
       "      <th>std</th>\n",
       "      <th>min</th>\n",
       "      <th>25%</th>\n",
       "      <th>50%</th>\n",
       "      <th>75%</th>\n",
       "      <th>max</th>\n",
       "    </tr>\n",
       "  </thead>\n",
       "  <tbody>\n",
       "    <tr>\n",
       "      <th>Id</th>\n",
       "      <td>1460.0</td>\n",
       "      <td>730.500000</td>\n",
       "      <td>421.610009</td>\n",
       "      <td>1.0</td>\n",
       "      <td>365.75</td>\n",
       "      <td>730.5</td>\n",
       "      <td>1095.25</td>\n",
       "      <td>1460.0</td>\n",
       "    </tr>\n",
       "    <tr>\n",
       "      <th>MSSubClass</th>\n",
       "      <td>1460.0</td>\n",
       "      <td>56.897260</td>\n",
       "      <td>42.300571</td>\n",
       "      <td>20.0</td>\n",
       "      <td>20.00</td>\n",
       "      <td>50.0</td>\n",
       "      <td>70.00</td>\n",
       "      <td>190.0</td>\n",
       "    </tr>\n",
       "    <tr>\n",
       "      <th>LotFrontage</th>\n",
       "      <td>1201.0</td>\n",
       "      <td>70.049958</td>\n",
       "      <td>24.284752</td>\n",
       "      <td>21.0</td>\n",
       "      <td>59.00</td>\n",
       "      <td>69.0</td>\n",
       "      <td>80.00</td>\n",
       "      <td>313.0</td>\n",
       "    </tr>\n",
       "    <tr>\n",
       "      <th>LotArea</th>\n",
       "      <td>1460.0</td>\n",
       "      <td>10516.828082</td>\n",
       "      <td>9981.264932</td>\n",
       "      <td>1300.0</td>\n",
       "      <td>7553.50</td>\n",
       "      <td>9478.5</td>\n",
       "      <td>11601.50</td>\n",
       "      <td>215245.0</td>\n",
       "    </tr>\n",
       "    <tr>\n",
       "      <th>OverallQual</th>\n",
       "      <td>1460.0</td>\n",
       "      <td>6.099315</td>\n",
       "      <td>1.382997</td>\n",
       "      <td>1.0</td>\n",
       "      <td>5.00</td>\n",
       "      <td>6.0</td>\n",
       "      <td>7.00</td>\n",
       "      <td>10.0</td>\n",
       "    </tr>\n",
       "    <tr>\n",
       "      <th>OverallCond</th>\n",
       "      <td>1460.0</td>\n",
       "      <td>5.575342</td>\n",
       "      <td>1.112799</td>\n",
       "      <td>1.0</td>\n",
       "      <td>5.00</td>\n",
       "      <td>5.0</td>\n",
       "      <td>6.00</td>\n",
       "      <td>9.0</td>\n",
       "    </tr>\n",
       "    <tr>\n",
       "      <th>YearBuilt</th>\n",
       "      <td>1460.0</td>\n",
       "      <td>1971.267808</td>\n",
       "      <td>30.202904</td>\n",
       "      <td>1872.0</td>\n",
       "      <td>1954.00</td>\n",
       "      <td>1973.0</td>\n",
       "      <td>2000.00</td>\n",
       "      <td>2010.0</td>\n",
       "    </tr>\n",
       "    <tr>\n",
       "      <th>YearRemodAdd</th>\n",
       "      <td>1460.0</td>\n",
       "      <td>1984.865753</td>\n",
       "      <td>20.645407</td>\n",
       "      <td>1950.0</td>\n",
       "      <td>1967.00</td>\n",
       "      <td>1994.0</td>\n",
       "      <td>2004.00</td>\n",
       "      <td>2010.0</td>\n",
       "    </tr>\n",
       "    <tr>\n",
       "      <th>MasVnrArea</th>\n",
       "      <td>1452.0</td>\n",
       "      <td>103.685262</td>\n",
       "      <td>181.066207</td>\n",
       "      <td>0.0</td>\n",
       "      <td>0.00</td>\n",
       "      <td>0.0</td>\n",
       "      <td>166.00</td>\n",
       "      <td>1600.0</td>\n",
       "    </tr>\n",
       "    <tr>\n",
       "      <th>BsmtFinSF1</th>\n",
       "      <td>1460.0</td>\n",
       "      <td>443.639726</td>\n",
       "      <td>456.098091</td>\n",
       "      <td>0.0</td>\n",
       "      <td>0.00</td>\n",
       "      <td>383.5</td>\n",
       "      <td>712.25</td>\n",
       "      <td>5644.0</td>\n",
       "    </tr>\n",
       "    <tr>\n",
       "      <th>BsmtFinSF2</th>\n",
       "      <td>1460.0</td>\n",
       "      <td>46.549315</td>\n",
       "      <td>161.319273</td>\n",
       "      <td>0.0</td>\n",
       "      <td>0.00</td>\n",
       "      <td>0.0</td>\n",
       "      <td>0.00</td>\n",
       "      <td>1474.0</td>\n",
       "    </tr>\n",
       "    <tr>\n",
       "      <th>BsmtUnfSF</th>\n",
       "      <td>1460.0</td>\n",
       "      <td>567.240411</td>\n",
       "      <td>441.866955</td>\n",
       "      <td>0.0</td>\n",
       "      <td>223.00</td>\n",
       "      <td>477.5</td>\n",
       "      <td>808.00</td>\n",
       "      <td>2336.0</td>\n",
       "    </tr>\n",
       "    <tr>\n",
       "      <th>TotalBsmtSF</th>\n",
       "      <td>1460.0</td>\n",
       "      <td>1057.429452</td>\n",
       "      <td>438.705324</td>\n",
       "      <td>0.0</td>\n",
       "      <td>795.75</td>\n",
       "      <td>991.5</td>\n",
       "      <td>1298.25</td>\n",
       "      <td>6110.0</td>\n",
       "    </tr>\n",
       "    <tr>\n",
       "      <th>1stFlrSF</th>\n",
       "      <td>1460.0</td>\n",
       "      <td>1162.626712</td>\n",
       "      <td>386.587738</td>\n",
       "      <td>334.0</td>\n",
       "      <td>882.00</td>\n",
       "      <td>1087.0</td>\n",
       "      <td>1391.25</td>\n",
       "      <td>4692.0</td>\n",
       "    </tr>\n",
       "    <tr>\n",
       "      <th>2ndFlrSF</th>\n",
       "      <td>1460.0</td>\n",
       "      <td>346.992466</td>\n",
       "      <td>436.528436</td>\n",
       "      <td>0.0</td>\n",
       "      <td>0.00</td>\n",
       "      <td>0.0</td>\n",
       "      <td>728.00</td>\n",
       "      <td>2065.0</td>\n",
       "    </tr>\n",
       "    <tr>\n",
       "      <th>LowQualFinSF</th>\n",
       "      <td>1460.0</td>\n",
       "      <td>5.844521</td>\n",
       "      <td>48.623081</td>\n",
       "      <td>0.0</td>\n",
       "      <td>0.00</td>\n",
       "      <td>0.0</td>\n",
       "      <td>0.00</td>\n",
       "      <td>572.0</td>\n",
       "    </tr>\n",
       "    <tr>\n",
       "      <th>GrLivArea</th>\n",
       "      <td>1460.0</td>\n",
       "      <td>1515.463699</td>\n",
       "      <td>525.480383</td>\n",
       "      <td>334.0</td>\n",
       "      <td>1129.50</td>\n",
       "      <td>1464.0</td>\n",
       "      <td>1776.75</td>\n",
       "      <td>5642.0</td>\n",
       "    </tr>\n",
       "    <tr>\n",
       "      <th>BsmtFullBath</th>\n",
       "      <td>1460.0</td>\n",
       "      <td>0.425342</td>\n",
       "      <td>0.518911</td>\n",
       "      <td>0.0</td>\n",
       "      <td>0.00</td>\n",
       "      <td>0.0</td>\n",
       "      <td>1.00</td>\n",
       "      <td>3.0</td>\n",
       "    </tr>\n",
       "    <tr>\n",
       "      <th>BsmtHalfBath</th>\n",
       "      <td>1460.0</td>\n",
       "      <td>0.057534</td>\n",
       "      <td>0.238753</td>\n",
       "      <td>0.0</td>\n",
       "      <td>0.00</td>\n",
       "      <td>0.0</td>\n",
       "      <td>0.00</td>\n",
       "      <td>2.0</td>\n",
       "    </tr>\n",
       "    <tr>\n",
       "      <th>FullBath</th>\n",
       "      <td>1460.0</td>\n",
       "      <td>1.565068</td>\n",
       "      <td>0.550916</td>\n",
       "      <td>0.0</td>\n",
       "      <td>1.00</td>\n",
       "      <td>2.0</td>\n",
       "      <td>2.00</td>\n",
       "      <td>3.0</td>\n",
       "    </tr>\n",
       "    <tr>\n",
       "      <th>HalfBath</th>\n",
       "      <td>1460.0</td>\n",
       "      <td>0.382877</td>\n",
       "      <td>0.502885</td>\n",
       "      <td>0.0</td>\n",
       "      <td>0.00</td>\n",
       "      <td>0.0</td>\n",
       "      <td>1.00</td>\n",
       "      <td>2.0</td>\n",
       "    </tr>\n",
       "    <tr>\n",
       "      <th>BedroomAbvGr</th>\n",
       "      <td>1460.0</td>\n",
       "      <td>2.866438</td>\n",
       "      <td>0.815778</td>\n",
       "      <td>0.0</td>\n",
       "      <td>2.00</td>\n",
       "      <td>3.0</td>\n",
       "      <td>3.00</td>\n",
       "      <td>8.0</td>\n",
       "    </tr>\n",
       "    <tr>\n",
       "      <th>KitchenAbvGr</th>\n",
       "      <td>1460.0</td>\n",
       "      <td>1.046575</td>\n",
       "      <td>0.220338</td>\n",
       "      <td>0.0</td>\n",
       "      <td>1.00</td>\n",
       "      <td>1.0</td>\n",
       "      <td>1.00</td>\n",
       "      <td>3.0</td>\n",
       "    </tr>\n",
       "    <tr>\n",
       "      <th>TotRmsAbvGrd</th>\n",
       "      <td>1460.0</td>\n",
       "      <td>6.517808</td>\n",
       "      <td>1.625393</td>\n",
       "      <td>2.0</td>\n",
       "      <td>5.00</td>\n",
       "      <td>6.0</td>\n",
       "      <td>7.00</td>\n",
       "      <td>14.0</td>\n",
       "    </tr>\n",
       "    <tr>\n",
       "      <th>Fireplaces</th>\n",
       "      <td>1460.0</td>\n",
       "      <td>0.613014</td>\n",
       "      <td>0.644666</td>\n",
       "      <td>0.0</td>\n",
       "      <td>0.00</td>\n",
       "      <td>1.0</td>\n",
       "      <td>1.00</td>\n",
       "      <td>3.0</td>\n",
       "    </tr>\n",
       "    <tr>\n",
       "      <th>GarageYrBlt</th>\n",
       "      <td>1379.0</td>\n",
       "      <td>1978.506164</td>\n",
       "      <td>24.689725</td>\n",
       "      <td>1900.0</td>\n",
       "      <td>1961.00</td>\n",
       "      <td>1980.0</td>\n",
       "      <td>2002.00</td>\n",
       "      <td>2010.0</td>\n",
       "    </tr>\n",
       "    <tr>\n",
       "      <th>GarageCars</th>\n",
       "      <td>1460.0</td>\n",
       "      <td>1.767123</td>\n",
       "      <td>0.747315</td>\n",
       "      <td>0.0</td>\n",
       "      <td>1.00</td>\n",
       "      <td>2.0</td>\n",
       "      <td>2.00</td>\n",
       "      <td>4.0</td>\n",
       "    </tr>\n",
       "    <tr>\n",
       "      <th>GarageArea</th>\n",
       "      <td>1460.0</td>\n",
       "      <td>472.980137</td>\n",
       "      <td>213.804841</td>\n",
       "      <td>0.0</td>\n",
       "      <td>334.50</td>\n",
       "      <td>480.0</td>\n",
       "      <td>576.00</td>\n",
       "      <td>1418.0</td>\n",
       "    </tr>\n",
       "    <tr>\n",
       "      <th>WoodDeckSF</th>\n",
       "      <td>1460.0</td>\n",
       "      <td>94.244521</td>\n",
       "      <td>125.338794</td>\n",
       "      <td>0.0</td>\n",
       "      <td>0.00</td>\n",
       "      <td>0.0</td>\n",
       "      <td>168.00</td>\n",
       "      <td>857.0</td>\n",
       "    </tr>\n",
       "    <tr>\n",
       "      <th>OpenPorchSF</th>\n",
       "      <td>1460.0</td>\n",
       "      <td>46.660274</td>\n",
       "      <td>66.256028</td>\n",
       "      <td>0.0</td>\n",
       "      <td>0.00</td>\n",
       "      <td>25.0</td>\n",
       "      <td>68.00</td>\n",
       "      <td>547.0</td>\n",
       "    </tr>\n",
       "    <tr>\n",
       "      <th>EnclosedPorch</th>\n",
       "      <td>1460.0</td>\n",
       "      <td>21.954110</td>\n",
       "      <td>61.119149</td>\n",
       "      <td>0.0</td>\n",
       "      <td>0.00</td>\n",
       "      <td>0.0</td>\n",
       "      <td>0.00</td>\n",
       "      <td>552.0</td>\n",
       "    </tr>\n",
       "    <tr>\n",
       "      <th>3SsnPorch</th>\n",
       "      <td>1460.0</td>\n",
       "      <td>3.409589</td>\n",
       "      <td>29.317331</td>\n",
       "      <td>0.0</td>\n",
       "      <td>0.00</td>\n",
       "      <td>0.0</td>\n",
       "      <td>0.00</td>\n",
       "      <td>508.0</td>\n",
       "    </tr>\n",
       "    <tr>\n",
       "      <th>ScreenPorch</th>\n",
       "      <td>1460.0</td>\n",
       "      <td>15.060959</td>\n",
       "      <td>55.757415</td>\n",
       "      <td>0.0</td>\n",
       "      <td>0.00</td>\n",
       "      <td>0.0</td>\n",
       "      <td>0.00</td>\n",
       "      <td>480.0</td>\n",
       "    </tr>\n",
       "    <tr>\n",
       "      <th>PoolArea</th>\n",
       "      <td>1460.0</td>\n",
       "      <td>2.758904</td>\n",
       "      <td>40.177307</td>\n",
       "      <td>0.0</td>\n",
       "      <td>0.00</td>\n",
       "      <td>0.0</td>\n",
       "      <td>0.00</td>\n",
       "      <td>738.0</td>\n",
       "    </tr>\n",
       "    <tr>\n",
       "      <th>MiscVal</th>\n",
       "      <td>1460.0</td>\n",
       "      <td>43.489041</td>\n",
       "      <td>496.123024</td>\n",
       "      <td>0.0</td>\n",
       "      <td>0.00</td>\n",
       "      <td>0.0</td>\n",
       "      <td>0.00</td>\n",
       "      <td>15500.0</td>\n",
       "    </tr>\n",
       "    <tr>\n",
       "      <th>MoSold</th>\n",
       "      <td>1460.0</td>\n",
       "      <td>6.321918</td>\n",
       "      <td>2.703626</td>\n",
       "      <td>1.0</td>\n",
       "      <td>5.00</td>\n",
       "      <td>6.0</td>\n",
       "      <td>8.00</td>\n",
       "      <td>12.0</td>\n",
       "    </tr>\n",
       "    <tr>\n",
       "      <th>YrSold</th>\n",
       "      <td>1460.0</td>\n",
       "      <td>2007.815753</td>\n",
       "      <td>1.328095</td>\n",
       "      <td>2006.0</td>\n",
       "      <td>2007.00</td>\n",
       "      <td>2008.0</td>\n",
       "      <td>2009.00</td>\n",
       "      <td>2010.0</td>\n",
       "    </tr>\n",
       "    <tr>\n",
       "      <th>SalePrice</th>\n",
       "      <td>1460.0</td>\n",
       "      <td>180921.195890</td>\n",
       "      <td>79442.502883</td>\n",
       "      <td>34900.0</td>\n",
       "      <td>129975.00</td>\n",
       "      <td>163000.0</td>\n",
       "      <td>214000.00</td>\n",
       "      <td>755000.0</td>\n",
       "    </tr>\n",
       "  </tbody>\n",
       "</table>\n",
       "</div>"
      ],
      "text/plain": [
       "                count           mean           std      min        25%  \\\n",
       "Id             1460.0     730.500000    421.610009      1.0     365.75   \n",
       "MSSubClass     1460.0      56.897260     42.300571     20.0      20.00   \n",
       "LotFrontage    1201.0      70.049958     24.284752     21.0      59.00   \n",
       "LotArea        1460.0   10516.828082   9981.264932   1300.0    7553.50   \n",
       "OverallQual    1460.0       6.099315      1.382997      1.0       5.00   \n",
       "OverallCond    1460.0       5.575342      1.112799      1.0       5.00   \n",
       "YearBuilt      1460.0    1971.267808     30.202904   1872.0    1954.00   \n",
       "YearRemodAdd   1460.0    1984.865753     20.645407   1950.0    1967.00   \n",
       "MasVnrArea     1452.0     103.685262    181.066207      0.0       0.00   \n",
       "BsmtFinSF1     1460.0     443.639726    456.098091      0.0       0.00   \n",
       "BsmtFinSF2     1460.0      46.549315    161.319273      0.0       0.00   \n",
       "BsmtUnfSF      1460.0     567.240411    441.866955      0.0     223.00   \n",
       "TotalBsmtSF    1460.0    1057.429452    438.705324      0.0     795.75   \n",
       "1stFlrSF       1460.0    1162.626712    386.587738    334.0     882.00   \n",
       "2ndFlrSF       1460.0     346.992466    436.528436      0.0       0.00   \n",
       "LowQualFinSF   1460.0       5.844521     48.623081      0.0       0.00   \n",
       "GrLivArea      1460.0    1515.463699    525.480383    334.0    1129.50   \n",
       "BsmtFullBath   1460.0       0.425342      0.518911      0.0       0.00   \n",
       "BsmtHalfBath   1460.0       0.057534      0.238753      0.0       0.00   \n",
       "FullBath       1460.0       1.565068      0.550916      0.0       1.00   \n",
       "HalfBath       1460.0       0.382877      0.502885      0.0       0.00   \n",
       "BedroomAbvGr   1460.0       2.866438      0.815778      0.0       2.00   \n",
       "KitchenAbvGr   1460.0       1.046575      0.220338      0.0       1.00   \n",
       "TotRmsAbvGrd   1460.0       6.517808      1.625393      2.0       5.00   \n",
       "Fireplaces     1460.0       0.613014      0.644666      0.0       0.00   \n",
       "GarageYrBlt    1379.0    1978.506164     24.689725   1900.0    1961.00   \n",
       "GarageCars     1460.0       1.767123      0.747315      0.0       1.00   \n",
       "GarageArea     1460.0     472.980137    213.804841      0.0     334.50   \n",
       "WoodDeckSF     1460.0      94.244521    125.338794      0.0       0.00   \n",
       "OpenPorchSF    1460.0      46.660274     66.256028      0.0       0.00   \n",
       "EnclosedPorch  1460.0      21.954110     61.119149      0.0       0.00   \n",
       "3SsnPorch      1460.0       3.409589     29.317331      0.0       0.00   \n",
       "ScreenPorch    1460.0      15.060959     55.757415      0.0       0.00   \n",
       "PoolArea       1460.0       2.758904     40.177307      0.0       0.00   \n",
       "MiscVal        1460.0      43.489041    496.123024      0.0       0.00   \n",
       "MoSold         1460.0       6.321918      2.703626      1.0       5.00   \n",
       "YrSold         1460.0    2007.815753      1.328095   2006.0    2007.00   \n",
       "SalePrice      1460.0  180921.195890  79442.502883  34900.0  129975.00   \n",
       "\n",
       "                    50%        75%       max  \n",
       "Id                730.5    1095.25    1460.0  \n",
       "MSSubClass         50.0      70.00     190.0  \n",
       "LotFrontage        69.0      80.00     313.0  \n",
       "LotArea          9478.5   11601.50  215245.0  \n",
       "OverallQual         6.0       7.00      10.0  \n",
       "OverallCond         5.0       6.00       9.0  \n",
       "YearBuilt        1973.0    2000.00    2010.0  \n",
       "YearRemodAdd     1994.0    2004.00    2010.0  \n",
       "MasVnrArea          0.0     166.00    1600.0  \n",
       "BsmtFinSF1        383.5     712.25    5644.0  \n",
       "BsmtFinSF2          0.0       0.00    1474.0  \n",
       "BsmtUnfSF         477.5     808.00    2336.0  \n",
       "TotalBsmtSF       991.5    1298.25    6110.0  \n",
       "1stFlrSF         1087.0    1391.25    4692.0  \n",
       "2ndFlrSF            0.0     728.00    2065.0  \n",
       "LowQualFinSF        0.0       0.00     572.0  \n",
       "GrLivArea        1464.0    1776.75    5642.0  \n",
       "BsmtFullBath        0.0       1.00       3.0  \n",
       "BsmtHalfBath        0.0       0.00       2.0  \n",
       "FullBath            2.0       2.00       3.0  \n",
       "HalfBath            0.0       1.00       2.0  \n",
       "BedroomAbvGr        3.0       3.00       8.0  \n",
       "KitchenAbvGr        1.0       1.00       3.0  \n",
       "TotRmsAbvGrd        6.0       7.00      14.0  \n",
       "Fireplaces          1.0       1.00       3.0  \n",
       "GarageYrBlt      1980.0    2002.00    2010.0  \n",
       "GarageCars          2.0       2.00       4.0  \n",
       "GarageArea        480.0     576.00    1418.0  \n",
       "WoodDeckSF          0.0     168.00     857.0  \n",
       "OpenPorchSF        25.0      68.00     547.0  \n",
       "EnclosedPorch       0.0       0.00     552.0  \n",
       "3SsnPorch           0.0       0.00     508.0  \n",
       "ScreenPorch         0.0       0.00     480.0  \n",
       "PoolArea            0.0       0.00     738.0  \n",
       "MiscVal             0.0       0.00   15500.0  \n",
       "MoSold              6.0       8.00      12.0  \n",
       "YrSold           2008.0    2009.00    2010.0  \n",
       "SalePrice      163000.0  214000.00  755000.0  "
      ]
     },
     "execution_count": 6,
     "metadata": {},
     "output_type": "execute_result"
    }
   ],
   "source": [
    "train.describe().T"
   ]
  },
  {
   "cell_type": "markdown",
   "id": "desirable-canvas",
   "metadata": {
    "papermill": {
     "duration": 0.060649,
     "end_time": "2021-06-14T20:15:33.660613",
     "exception": false,
     "start_time": "2021-06-14T20:15:33.599964",
     "status": "completed"
    },
    "tags": []
   },
   "source": [
    "# Feature Selection"
   ]
  },
  {
   "cell_type": "markdown",
   "id": "durable-diversity",
   "metadata": {
    "papermill": {
     "duration": 0.060914,
     "end_time": "2021-06-14T20:15:33.782587",
     "exception": false,
     "start_time": "2021-06-14T20:15:33.721673",
     "status": "completed"
    },
    "tags": []
   },
   "source": [
    "Seperating numaric columns and categorical columns"
   ]
  },
  {
   "cell_type": "code",
   "execution_count": 7,
   "id": "viral-overview",
   "metadata": {
    "execution": {
     "iopub.execute_input": "2021-06-14T20:15:33.913619Z",
     "iopub.status.busy": "2021-06-14T20:15:33.912984Z",
     "iopub.status.idle": "2021-06-14T20:15:33.917077Z",
     "shell.execute_reply": "2021-06-14T20:15:33.916441Z",
     "shell.execute_reply.started": "2021-06-14T20:10:24.902068Z"
    },
    "papermill": {
     "duration": 0.072924,
     "end_time": "2021-06-14T20:15:33.917216",
     "exception": false,
     "start_time": "2021-06-14T20:15:33.844292",
     "status": "completed"
    },
    "tags": []
   },
   "outputs": [],
   "source": [
    "numaric_cols = train.select_dtypes(exclude=['object'])\n",
    "categorical_cols = train.select_dtypes(include=['object'])"
   ]
  },
  {
   "cell_type": "code",
   "execution_count": 8,
   "id": "technological-curve",
   "metadata": {
    "execution": {
     "iopub.execute_input": "2021-06-14T20:15:34.046275Z",
     "iopub.status.busy": "2021-06-14T20:15:34.045571Z",
     "iopub.status.idle": "2021-06-14T20:15:34.061888Z",
     "shell.execute_reply": "2021-06-14T20:15:34.061206Z",
     "shell.execute_reply.started": "2021-06-14T20:10:26.774448Z"
    },
    "papermill": {
     "duration": 0.083343,
     "end_time": "2021-06-14T20:15:34.062043",
     "exception": false,
     "start_time": "2021-06-14T20:15:33.978700",
     "status": "completed"
    },
    "tags": []
   },
   "outputs": [
    {
     "data": {
      "text/plain": [
       "SalePrice        1.000000\n",
       "OverallQual      0.790982\n",
       "GrLivArea        0.708624\n",
       "GarageCars       0.640409\n",
       "GarageArea       0.623431\n",
       "TotalBsmtSF      0.613581\n",
       "1stFlrSF         0.605852\n",
       "FullBath         0.560664\n",
       "TotRmsAbvGrd     0.533723\n",
       "YearBuilt        0.522897\n",
       "YearRemodAdd     0.507101\n",
       "GarageYrBlt      0.486362\n",
       "MasVnrArea       0.477493\n",
       "Fireplaces       0.466929\n",
       "BsmtFinSF1       0.386420\n",
       "LotFrontage      0.351799\n",
       "WoodDeckSF       0.324413\n",
       "2ndFlrSF         0.319334\n",
       "OpenPorchSF      0.315856\n",
       "HalfBath         0.284108\n",
       "LotArea          0.263843\n",
       "BsmtFullBath     0.227122\n",
       "BsmtUnfSF        0.214479\n",
       "BedroomAbvGr     0.168213\n",
       "ScreenPorch      0.111447\n",
       "PoolArea         0.092404\n",
       "MoSold           0.046432\n",
       "3SsnPorch        0.044584\n",
       "BsmtFinSF2      -0.011378\n",
       "BsmtHalfBath    -0.016844\n",
       "MiscVal         -0.021190\n",
       "Id              -0.021917\n",
       "LowQualFinSF    -0.025606\n",
       "YrSold          -0.028923\n",
       "OverallCond     -0.077856\n",
       "MSSubClass      -0.084284\n",
       "EnclosedPorch   -0.128578\n",
       "KitchenAbvGr    -0.135907\n",
       "Name: SalePrice, dtype: float64"
      ]
     },
     "execution_count": 8,
     "metadata": {},
     "output_type": "execute_result"
    }
   ],
   "source": [
    "#finding important features\n",
    "correlation_num = numaric_cols.corr()\n",
    "correlation_num.sort_values([\"SalePrice\"], ascending = False, inplace = True)\n",
    "correlation_num.SalePrice\n",
    "#correlation.SalePrice.plot(kind = 'bar', figsize = (20, 6));"
   ]
  },
  {
   "cell_type": "code",
   "execution_count": 9,
   "id": "acting-discount",
   "metadata": {
    "execution": {
     "iopub.execute_input": "2021-06-14T20:15:34.192007Z",
     "iopub.status.busy": "2021-06-14T20:15:34.191264Z",
     "iopub.status.idle": "2021-06-14T20:15:34.362209Z",
     "shell.execute_reply": "2021-06-14T20:15:34.361624Z",
     "shell.execute_reply.started": "2021-06-14T20:10:29.736984Z"
    },
    "papermill": {
     "duration": 0.237862,
     "end_time": "2021-06-14T20:15:34.362346",
     "exception": false,
     "start_time": "2021-06-14T20:15:34.124484",
     "status": "completed"
    },
    "tags": []
   },
   "outputs": [
    {
     "data": {
      "text/plain": [
       "SalePrice        1.000000\n",
       "Foundation       0.382479\n",
       "CentralAir       0.251328\n",
       "Electrical       0.234716\n",
       "PavedDrive       0.231357\n",
       "RoofStyle        0.222405\n",
       "SaleCondition    0.213092\n",
       "Neighborhood     0.210851\n",
       "HouseStyle       0.180163\n",
       "Fence            0.140640\n",
       "Alley            0.139868\n",
       "RoofMatl         0.132383\n",
       "ExterCond        0.117303\n",
       "Functional       0.115328\n",
       "Exterior2nd      0.103766\n",
       "Exterior1st      0.103551\n",
       "Condition1       0.091155\n",
       "MiscFeature      0.073609\n",
       "LandSlope        0.051152\n",
       "Street           0.041036\n",
       "MasVnrType       0.029658\n",
       "GarageCond       0.025149\n",
       "LandContour      0.015453\n",
       "BsmtCond         0.015058\n",
       "BsmtFinType2     0.008041\n",
       "Condition2       0.007513\n",
       "GarageQual       0.006861\n",
       "Utilities       -0.014314\n",
       "SaleType        -0.054911\n",
       "LotConfig       -0.067396\n",
       "BldgType        -0.085591\n",
       "Heating         -0.098812\n",
       "BsmtFinType1    -0.103114\n",
       "PoolQC          -0.126070\n",
       "MSZoning        -0.166872\n",
       "LotShape        -0.255580\n",
       "BsmtExposure    -0.309043\n",
       "HeatingQC       -0.400178\n",
       "GarageType      -0.415283\n",
       "FireplaceQu     -0.459605\n",
       "GarageFinish    -0.549247\n",
       "KitchenQual     -0.589189\n",
       "BsmtQual        -0.620886\n",
       "ExterQual       -0.636884\n",
       "Name: SalePrice, dtype: float64"
      ]
     },
     "execution_count": 9,
     "metadata": {},
     "output_type": "execute_result"
    }
   ],
   "source": [
    "#label encoding categorical columns\n",
    "from sklearn.preprocessing import LabelEncoder\n",
    "cat_le = categorical_cols.apply(LabelEncoder().fit_transform)\n",
    "cat_le['SalePrice'] = train['SalePrice']\n",
    "#finding important features from categorical values\n",
    "correlation_cat = cat_le.corr()\n",
    "correlation_cat.sort_values([\"SalePrice\"], ascending = False, inplace = True)\n",
    "correlation_cat.SalePrice"
   ]
  },
  {
   "cell_type": "markdown",
   "id": "peaceful-pressure",
   "metadata": {
    "papermill": {
     "duration": 0.062333,
     "end_time": "2021-06-14T20:15:34.487087",
     "exception": false,
     "start_time": "2021-06-14T20:15:34.424754",
     "status": "completed"
    },
    "tags": []
   },
   "source": [
    "Visualizing important features"
   ]
  },
  {
   "cell_type": "code",
   "execution_count": 10,
   "id": "sticky-defensive",
   "metadata": {
    "execution": {
     "iopub.execute_input": "2021-06-14T20:15:34.635436Z",
     "iopub.status.busy": "2021-06-14T20:15:34.634371Z",
     "iopub.status.idle": "2021-06-14T20:15:35.689317Z",
     "shell.execute_reply": "2021-06-14T20:15:35.689990Z",
     "shell.execute_reply.started": "2021-06-14T19:57:46.571545Z"
    },
    "papermill": {
     "duration": 1.140509,
     "end_time": "2021-06-14T20:15:35.690167",
     "exception": false,
     "start_time": "2021-06-14T20:15:34.549658",
     "status": "completed"
    },
    "tags": []
   },
   "outputs": [
    {
     "data": {
      "image/png": "[encoded data removed]",
      "text/plain": [
       "<Figure size 1008x1296 with 2 Axes>"
      ]
     },
     "metadata": {
      "needs_background": "light"
     },
     "output_type": "display_data"
    }
   ],
   "source": [
    "fig, axarr = plt.subplots(2, 1, figsize = (14, 18))\n",
    "correlation_num.SalePrice.plot.bar(ax=axarr[0])\n",
    "correlation_cat.SalePrice.plot.bar(ax=axarr[1])\n",
    "axarr[0].set_title(\"Feature importance of numaric columns\")\n",
    "axarr[1].set_title(\"Feature importance of categorical columns\");"
   ]
  },
  {
   "cell_type": "markdown",
   "id": "checked-prototype",
   "metadata": {
    "papermill": {
     "duration": 0.06424,
     "end_time": "2021-06-14T20:15:35.819744",
     "exception": false,
     "start_time": "2021-06-14T20:15:35.755504",
     "status": "completed"
    },
    "tags": []
   },
   "source": [
    "# Data Preprocessing(Train set)"
   ]
  },
  {
   "cell_type": "code",
   "execution_count": 11,
   "id": "becoming-resistance",
   "metadata": {
    "execution": {
     "iopub.execute_input": "2021-06-14T20:15:35.961004Z",
     "iopub.status.busy": "2021-06-14T20:15:35.960345Z",
     "iopub.status.idle": "2021-06-14T20:15:36.085371Z",
     "shell.execute_reply": "2021-06-14T20:15:36.085872Z",
     "shell.execute_reply.started": "2021-06-14T20:10:33.807808Z"
    },
    "papermill": {
     "duration": 0.201478,
     "end_time": "2021-06-14T20:15:36.086058",
     "exception": false,
     "start_time": "2021-06-14T20:15:35.884580",
     "status": "completed"
    },
    "tags": []
   },
   "outputs": [],
   "source": [
    "# dropping colmuns where number of null values is greater than 500\n",
    "null_values = train.loc[:,train.isnull().sum()>500]\n",
    "train.drop(null_values,axis=1, inplace = True)"
   ]
  },
  {
   "cell_type": "markdown",
   "id": "comprehensive-chance",
   "metadata": {
    "papermill": {
     "duration": 0.064672,
     "end_time": "2021-06-14T20:15:36.216004",
     "exception": false,
     "start_time": "2021-06-14T20:15:36.151332",
     "status": "completed"
    },
    "tags": []
   },
   "source": [
    "Let's remove features with less importance. **Less important features was selected by correlation score**."
   ]
  },
  {
   "cell_type": "code",
   "execution_count": 12,
   "id": "miniature-fleece",
   "metadata": {
    "execution": {
     "iopub.execute_input": "2021-06-14T20:15:36.347537Z",
     "iopub.status.busy": "2021-06-14T20:15:36.346932Z",
     "iopub.status.idle": "2021-06-14T20:15:36.355033Z",
     "shell.execute_reply": "2021-06-14T20:15:36.355519Z",
     "shell.execute_reply.started": "2021-06-14T20:10:35.620514Z"
    },
    "papermill": {
     "duration": 0.075407,
     "end_time": "2021-06-14T20:15:36.355705",
     "exception": false,
     "start_time": "2021-06-14T20:15:36.280298",
     "status": "completed"
    },
    "tags": []
   },
   "outputs": [],
   "source": [
    "# list of less important features\n",
    "less_important = ['Id', 'MSSubClass', 'OverallCond', 'BsmtFinSF2', 'LowQualFinSF', 'BsmtHalfBath', 'KitchenAbvGr', 'EnclosedPorch',\n",
    " '3SsnPorch', 'PoolArea', 'MiscVal', 'MoSold', 'YrSold', 'MSZoning', 'Street', 'LotShape', 'LandContour', 'Utilities',\n",
    " 'LotConfig', 'LandSlope', 'Condition2', 'BldgType', 'MasVnrType', 'ExterQual', 'BsmtQual', 'BsmtExposure','BsmtFinType1',\n",
    " 'Heating', 'HeatingQC', 'KitchenQual', 'GarageType', 'GarageFinish','SaleType']\n",
    "\n",
    "# dropping less important columns\n",
    "train.drop(less_important, axis = 1, inplace = True)"
   ]
  },
  {
   "cell_type": "markdown",
   "id": "adolescent-sixth",
   "metadata": {
    "papermill": {
     "duration": 0.064096,
     "end_time": "2021-06-14T20:15:36.483868",
     "exception": false,
     "start_time": "2021-06-14T20:15:36.419772",
     "status": "completed"
    },
    "tags": []
   },
   "source": [
    "Let's check for null values. To view the full dataset first we need to set `display.max_rows`"
   ]
  },
  {
   "cell_type": "code",
   "execution_count": 13,
   "id": "comic-harbor",
   "metadata": {
    "execution": {
     "iopub.execute_input": "2021-06-14T20:15:36.615002Z",
     "iopub.status.busy": "2021-06-14T20:15:36.614362Z",
     "iopub.status.idle": "2021-06-14T20:15:36.629840Z",
     "shell.execute_reply": "2021-06-14T20:15:36.630377Z",
     "shell.execute_reply.started": "2021-06-14T19:58:22.332248Z"
    },
    "papermill": {
     "duration": 0.082783,
     "end_time": "2021-06-14T20:15:36.630564",
     "exception": false,
     "start_time": "2021-06-14T20:15:36.547781",
     "status": "completed"
    },
    "tags": []
   },
   "outputs": [
    {
     "data": {
      "text/html": [
       "<div>\n",
       "<style scoped>\n",
       "    .dataframe tbody tr th:only-of-type {\n",
       "        vertical-align: middle;\n",
       "    }\n",
       "\n",
       "    .dataframe tbody tr th {\n",
       "        vertical-align: top;\n",
       "    }\n",
       "\n",
       "    .dataframe thead th {\n",
       "        text-align: right;\n",
       "    }\n",
       "</style>\n",
       "<table border=\"1\" class=\"dataframe\">\n",
       "  <thead>\n",
       "    <tr style=\"text-align: right;\">\n",
       "      <th></th>\n",
       "      <th>0</th>\n",
       "    </tr>\n",
       "  </thead>\n",
       "  <tbody>\n",
       "    <tr>\n",
       "      <th>LotFrontage</th>\n",
       "      <td>259</td>\n",
       "    </tr>\n",
       "    <tr>\n",
       "      <th>LotArea</th>\n",
       "      <td>0</td>\n",
       "    </tr>\n",
       "    <tr>\n",
       "      <th>Neighborhood</th>\n",
       "      <td>0</td>\n",
       "    </tr>\n",
       "    <tr>\n",
       "      <th>Condition1</th>\n",
       "      <td>0</td>\n",
       "    </tr>\n",
       "    <tr>\n",
       "      <th>HouseStyle</th>\n",
       "      <td>0</td>\n",
       "    </tr>\n",
       "    <tr>\n",
       "      <th>OverallQual</th>\n",
       "      <td>0</td>\n",
       "    </tr>\n",
       "    <tr>\n",
       "      <th>YearBuilt</th>\n",
       "      <td>0</td>\n",
       "    </tr>\n",
       "    <tr>\n",
       "      <th>YearRemodAdd</th>\n",
       "      <td>0</td>\n",
       "    </tr>\n",
       "    <tr>\n",
       "      <th>RoofStyle</th>\n",
       "      <td>0</td>\n",
       "    </tr>\n",
       "    <tr>\n",
       "      <th>RoofMatl</th>\n",
       "      <td>0</td>\n",
       "    </tr>\n",
       "    <tr>\n",
       "      <th>Exterior1st</th>\n",
       "      <td>0</td>\n",
       "    </tr>\n",
       "    <tr>\n",
       "      <th>Exterior2nd</th>\n",
       "      <td>0</td>\n",
       "    </tr>\n",
       "    <tr>\n",
       "      <th>MasVnrArea</th>\n",
       "      <td>8</td>\n",
       "    </tr>\n",
       "    <tr>\n",
       "      <th>ExterCond</th>\n",
       "      <td>0</td>\n",
       "    </tr>\n",
       "    <tr>\n",
       "      <th>Foundation</th>\n",
       "      <td>0</td>\n",
       "    </tr>\n",
       "    <tr>\n",
       "      <th>BsmtCond</th>\n",
       "      <td>37</td>\n",
       "    </tr>\n",
       "    <tr>\n",
       "      <th>BsmtFinSF1</th>\n",
       "      <td>0</td>\n",
       "    </tr>\n",
       "    <tr>\n",
       "      <th>BsmtFinType2</th>\n",
       "      <td>38</td>\n",
       "    </tr>\n",
       "    <tr>\n",
       "      <th>BsmtUnfSF</th>\n",
       "      <td>0</td>\n",
       "    </tr>\n",
       "    <tr>\n",
       "      <th>TotalBsmtSF</th>\n",
       "      <td>0</td>\n",
       "    </tr>\n",
       "    <tr>\n",
       "      <th>CentralAir</th>\n",
       "      <td>0</td>\n",
       "    </tr>\n",
       "    <tr>\n",
       "      <th>Electrical</th>\n",
       "      <td>1</td>\n",
       "    </tr>\n",
       "    <tr>\n",
       "      <th>1stFlrSF</th>\n",
       "      <td>0</td>\n",
       "    </tr>\n",
       "    <tr>\n",
       "      <th>2ndFlrSF</th>\n",
       "      <td>0</td>\n",
       "    </tr>\n",
       "    <tr>\n",
       "      <th>GrLivArea</th>\n",
       "      <td>0</td>\n",
       "    </tr>\n",
       "    <tr>\n",
       "      <th>BsmtFullBath</th>\n",
       "      <td>0</td>\n",
       "    </tr>\n",
       "    <tr>\n",
       "      <th>FullBath</th>\n",
       "      <td>0</td>\n",
       "    </tr>\n",
       "    <tr>\n",
       "      <th>HalfBath</th>\n",
       "      <td>0</td>\n",
       "    </tr>\n",
       "    <tr>\n",
       "      <th>BedroomAbvGr</th>\n",
       "      <td>0</td>\n",
       "    </tr>\n",
       "    <tr>\n",
       "      <th>TotRmsAbvGrd</th>\n",
       "      <td>0</td>\n",
       "    </tr>\n",
       "    <tr>\n",
       "      <th>Functional</th>\n",
       "      <td>0</td>\n",
       "    </tr>\n",
       "    <tr>\n",
       "      <th>Fireplaces</th>\n",
       "      <td>0</td>\n",
       "    </tr>\n",
       "    <tr>\n",
       "      <th>GarageYrBlt</th>\n",
       "      <td>81</td>\n",
       "    </tr>\n",
       "    <tr>\n",
       "      <th>GarageCars</th>\n",
       "      <td>0</td>\n",
       "    </tr>\n",
       "    <tr>\n",
       "      <th>GarageArea</th>\n",
       "      <td>0</td>\n",
       "    </tr>\n",
       "    <tr>\n",
       "      <th>GarageQual</th>\n",
       "      <td>81</td>\n",
       "    </tr>\n",
       "    <tr>\n",
       "      <th>GarageCond</th>\n",
       "      <td>81</td>\n",
       "    </tr>\n",
       "    <tr>\n",
       "      <th>PavedDrive</th>\n",
       "      <td>0</td>\n",
       "    </tr>\n",
       "    <tr>\n",
       "      <th>WoodDeckSF</th>\n",
       "      <td>0</td>\n",
       "    </tr>\n",
       "    <tr>\n",
       "      <th>OpenPorchSF</th>\n",
       "      <td>0</td>\n",
       "    </tr>\n",
       "    <tr>\n",
       "      <th>ScreenPorch</th>\n",
       "      <td>0</td>\n",
       "    </tr>\n",
       "    <tr>\n",
       "      <th>SaleCondition</th>\n",
       "      <td>0</td>\n",
       "    </tr>\n",
       "    <tr>\n",
       "      <th>SalePrice</th>\n",
       "      <td>0</td>\n",
       "    </tr>\n",
       "  </tbody>\n",
       "</table>\n",
       "</div>"
      ],
      "text/plain": [
       "                 0\n",
       "LotFrontage    259\n",
       "LotArea          0\n",
       "Neighborhood     0\n",
       "Condition1       0\n",
       "HouseStyle       0\n",
       "OverallQual      0\n",
       "YearBuilt        0\n",
       "YearRemodAdd     0\n",
       "RoofStyle        0\n",
       "RoofMatl         0\n",
       "Exterior1st      0\n",
       "Exterior2nd      0\n",
       "MasVnrArea       8\n",
       "ExterCond        0\n",
       "Foundation       0\n",
       "BsmtCond        37\n",
       "BsmtFinSF1       0\n",
       "BsmtFinType2    38\n",
       "BsmtUnfSF        0\n",
       "TotalBsmtSF      0\n",
       "CentralAir       0\n",
       "Electrical       1\n",
       "1stFlrSF         0\n",
       "2ndFlrSF         0\n",
       "GrLivArea        0\n",
       "BsmtFullBath     0\n",
       "FullBath         0\n",
       "HalfBath         0\n",
       "BedroomAbvGr     0\n",
       "TotRmsAbvGrd     0\n",
       "Functional       0\n",
       "Fireplaces       0\n",
       "GarageYrBlt     81\n",
       "GarageCars       0\n",
       "GarageArea       0\n",
       "GarageQual      81\n",
       "GarageCond      81\n",
       "PavedDrive       0\n",
       "WoodDeckSF       0\n",
       "OpenPorchSF      0\n",
       "ScreenPorch      0\n",
       "SaleCondition    0\n",
       "SalePrice        0"
      ]
     },
     "execution_count": 13,
     "metadata": {},
     "output_type": "execute_result"
    }
   ],
   "source": [
    "pd.set_option('display.max_rows', None)\n",
    "pd.DataFrame(train.isna().sum())"
   ]
  },
  {
   "cell_type": "code",
   "execution_count": 14,
   "id": "democratic-clause",
   "metadata": {
    "execution": {
     "iopub.execute_input": "2021-06-14T20:15:36.765220Z",
     "iopub.status.busy": "2021-06-14T20:15:36.764531Z",
     "iopub.status.idle": "2021-06-14T20:15:36.775415Z",
     "shell.execute_reply": "2021-06-14T20:15:36.775972Z",
     "shell.execute_reply.started": "2021-06-14T20:10:39.293355Z"
    },
    "papermill": {
     "duration": 0.079684,
     "end_time": "2021-06-14T20:15:36.776152",
     "exception": false,
     "start_time": "2021-06-14T20:15:36.696468",
     "status": "completed"
    },
    "tags": []
   },
   "outputs": [],
   "source": [
    "# filling null values\n",
    "train['LotFrontage'].fillna(train['LotFrontage'].mean(), inplace = True)\n",
    "train['MasVnrArea'].fillna(0 , inplace = True)\n",
    "train['BsmtCond'].fillna('NA' , inplace = True)\n",
    "train['BsmtFinType2'].fillna('NA' , inplace = True)\n",
    "train['Electrical'].fillna('SBrkr' , inplace = True)\n",
    "train['GarageYrBlt'].fillna(0 , inplace = True)\n",
    "train['GarageQual'].fillna('NA' , inplace = True)\n",
    "train['GarageCond'].fillna('NA' , inplace = True)"
   ]
  },
  {
   "cell_type": "markdown",
   "id": "aggressive-desire",
   "metadata": {
    "papermill": {
     "duration": 0.064912,
     "end_time": "2021-06-14T20:15:36.906192",
     "exception": false,
     "start_time": "2021-06-14T20:15:36.841280",
     "status": "completed"
    },
    "tags": []
   },
   "source": [
    "Great! Null value problem solved."
   ]
  },
  {
   "cell_type": "markdown",
   "id": "sorted-mechanism",
   "metadata": {
    "papermill": {
     "duration": 0.065866,
     "end_time": "2021-06-14T20:15:37.038076",
     "exception": false,
     "start_time": "2021-06-14T20:15:36.972210",
     "status": "completed"
    },
    "tags": []
   },
   "source": [
    "# EDA"
   ]
  },
  {
   "cell_type": "markdown",
   "id": "manual-farming",
   "metadata": {
    "papermill": {
     "duration": 0.064476,
     "end_time": "2021-06-14T20:15:37.167728",
     "exception": false,
     "start_time": "2021-06-14T20:15:37.103252",
     "status": "completed"
    },
    "tags": []
   },
   "source": [
    "Let's first plot a scatter plot visualizing `GrLivArea` and `SalePrice`"
   ]
  },
  {
   "cell_type": "code",
   "execution_count": 15,
   "id": "third-western",
   "metadata": {
    "execution": {
     "iopub.execute_input": "2021-06-14T20:15:37.300214Z",
     "iopub.status.busy": "2021-06-14T20:15:37.299499Z",
     "iopub.status.idle": "2021-06-14T20:15:37.441881Z",
     "shell.execute_reply": "2021-06-14T20:15:37.442377Z",
     "shell.execute_reply.started": "2021-06-14T19:58:30.482134Z"
    },
    "papermill": {
     "duration": 0.209809,
     "end_time": "2021-06-14T20:15:37.442544",
     "exception": false,
     "start_time": "2021-06-14T20:15:37.232735",
     "status": "completed"
    },
    "tags": []
   },
   "outputs": [
    {
     "data": {
      "image/png": "[encoded data removed]",
      "text/plain": [
       "<Figure size 432x288 with 1 Axes>"
      ]
     },
     "metadata": {
      "needs_background": "light"
     },
     "output_type": "display_data"
    }
   ],
   "source": [
    "plt.scatter(train.GrLivArea, train.SalePrice, c = \"lightcoral\", marker =\"^\")\n",
    "plt.xlabel(\"GrLivArea\")\n",
    "plt.ylabel(\"SalePrice\")\n",
    "plt.show()"
   ]
  },
  {
   "cell_type": "markdown",
   "id": "swedish-catholic",
   "metadata": {
    "papermill": {
     "duration": 0.06529,
     "end_time": "2021-06-14T20:15:37.573794",
     "exception": false,
     "start_time": "2021-06-14T20:15:37.508504",
     "status": "completed"
    },
    "tags": []
   },
   "source": [
    "There are some odd values that saying Ground living area is bigger than `4000`. We will treat them as outliers. "
   ]
  },
  {
   "cell_type": "code",
   "execution_count": 16,
   "id": "intimate-simple",
   "metadata": {
    "execution": {
     "iopub.execute_input": "2021-06-14T20:15:37.707830Z",
     "iopub.status.busy": "2021-06-14T20:15:37.707167Z",
     "iopub.status.idle": "2021-06-14T20:15:37.712116Z",
     "shell.execute_reply": "2021-06-14T20:15:37.712723Z",
     "shell.execute_reply.started": "2021-06-14T19:58:33.397594Z"
    },
    "papermill": {
     "duration": 0.073577,
     "end_time": "2021-06-14T20:15:37.712898",
     "exception": false,
     "start_time": "2021-06-14T20:15:37.639321",
     "status": "completed"
    },
    "tags": []
   },
   "outputs": [],
   "source": [
    "#removing outliers\n",
    "train = train[train.GrLivArea < 4000]"
   ]
  },
  {
   "cell_type": "markdown",
   "id": "hawaiian-passenger",
   "metadata": {
    "papermill": {
     "duration": 0.066195,
     "end_time": "2021-06-14T20:15:37.844775",
     "exception": false,
     "start_time": "2021-06-14T20:15:37.778580",
     "status": "completed"
    },
    "tags": []
   },
   "source": [
    "Let's plot another scatter plot visualizing `LotArea` and `SalePrice`"
   ]
  },
  {
   "cell_type": "code",
   "execution_count": 17,
   "id": "fitted-easter",
   "metadata": {
    "execution": {
     "iopub.execute_input": "2021-06-14T20:15:37.978775Z",
     "iopub.status.busy": "2021-06-14T20:15:37.978130Z",
     "iopub.status.idle": "2021-06-14T20:15:38.109600Z",
     "shell.execute_reply": "2021-06-14T20:15:38.110124Z",
     "shell.execute_reply.started": "2021-06-14T18:56:39.669665Z"
    },
    "papermill": {
     "duration": 0.199995,
     "end_time": "2021-06-14T20:15:38.110363",
     "exception": false,
     "start_time": "2021-06-14T20:15:37.910368",
     "status": "completed"
    },
    "tags": []
   },
   "outputs": [
    {
     "data": {
      "image/png": "[encoded data removed]",
      "text/plain": [
       "<Figure size 432x288 with 1 Axes>"
      ]
     },
     "metadata": {
      "needs_background": "light"
     },
     "output_type": "display_data"
    }
   ],
   "source": [
    "plt.scatter(train.LotArea, train.SalePrice, c = \"chocolate\", marker =\">\")\n",
    "plt.xlabel(\"LotArea\")\n",
    "plt.ylabel(\"SalePrice\")\n",
    "plt.show()"
   ]
  },
  {
   "cell_type": "markdown",
   "id": "prompt-frost",
   "metadata": {
    "papermill": {
     "duration": 0.067227,
     "end_time": "2021-06-14T20:15:38.244497",
     "exception": false,
     "start_time": "2021-06-14T20:15:38.177270",
     "status": "completed"
    },
    "tags": []
   },
   "source": [
    "We will consider `LotArea` greater than `150000` as outliers."
   ]
  },
  {
   "cell_type": "code",
   "execution_count": 18,
   "id": "suburban-nashville",
   "metadata": {
    "execution": {
     "iopub.execute_input": "2021-06-14T20:15:38.381552Z",
     "iopub.status.busy": "2021-06-14T20:15:38.380612Z",
     "iopub.status.idle": "2021-06-14T20:15:38.385938Z",
     "shell.execute_reply": "2021-06-14T20:15:38.386468Z",
     "shell.execute_reply.started": "2021-06-14T18:56:42.062522Z"
    },
    "papermill": {
     "duration": 0.075534,
     "end_time": "2021-06-14T20:15:38.386652",
     "exception": false,
     "start_time": "2021-06-14T20:15:38.311118",
     "status": "completed"
    },
    "tags": []
   },
   "outputs": [],
   "source": [
    "#removing outliers\n",
    "train = train[train.LotArea < 150000]"
   ]
  },
  {
   "cell_type": "markdown",
   "id": "latest-hearts",
   "metadata": {
    "papermill": {
     "duration": 0.066302,
     "end_time": "2021-06-14T20:15:38.519405",
     "exception": false,
     "start_time": "2021-06-14T20:15:38.453103",
     "status": "completed"
    },
    "tags": []
   },
   "source": [
    "Another scatter plot of `LotFrontage` w.r.t `SalePrice`"
   ]
  },
  {
   "cell_type": "code",
   "execution_count": 19,
   "id": "outside-enlargement",
   "metadata": {
    "execution": {
     "iopub.execute_input": "2021-06-14T20:15:38.656293Z",
     "iopub.status.busy": "2021-06-14T20:15:38.655293Z",
     "iopub.status.idle": "2021-06-14T20:15:38.793032Z",
     "shell.execute_reply": "2021-06-14T20:15:38.793532Z",
     "shell.execute_reply.started": "2021-06-14T18:59:53.094573Z"
    },
    "papermill": {
     "duration": 0.208093,
     "end_time": "2021-06-14T20:15:38.793719",
     "exception": false,
     "start_time": "2021-06-14T20:15:38.585626",
     "status": "completed"
    },
    "tags": []
   },
   "outputs": [
    {
     "data": {
      "image/png": "[encoded data removed]",
      "text/plain": [
       "<Figure size 432x288 with 1 Axes>"
      ]
     },
     "metadata": {
      "needs_background": "light"
     },
     "output_type": "display_data"
    }
   ],
   "source": [
    "plt.scatter(train.LotFrontage, train.SalePrice, c = \"lightblue\", marker =\">\")\n",
    "plt.xlabel(\"LotFrontage\")\n",
    "plt.ylabel(\"SalePrice\")\n",
    "plt.show()"
   ]
  },
  {
   "cell_type": "markdown",
   "id": "driven-bread",
   "metadata": {
    "papermill": {
     "duration": 0.067355,
     "end_time": "2021-06-14T20:15:38.928049",
     "exception": false,
     "start_time": "2021-06-14T20:15:38.860694",
     "status": "completed"
    },
    "tags": []
   },
   "source": [
    "`OverallQual` refers overall quality of the house. This is a important feature. SalePrice largly depends on it. Because if the house quality is `Very Excellent` than it is more likely to be sold with high price. Let's analyse this column."
   ]
  },
  {
   "cell_type": "code",
   "execution_count": 20,
   "id": "demographic-criterion",
   "metadata": {
    "execution": {
     "iopub.execute_input": "2021-06-14T20:15:39.069919Z",
     "iopub.status.busy": "2021-06-14T20:15:39.068921Z",
     "iopub.status.idle": "2021-06-14T20:15:39.290809Z",
     "shell.execute_reply": "2021-06-14T20:15:39.291314Z",
     "shell.execute_reply.started": "2021-06-14T19:00:03.119823Z"
    },
    "papermill": {
     "duration": 0.294982,
     "end_time": "2021-06-14T20:15:39.291490",
     "exception": false,
     "start_time": "2021-06-14T20:15:38.996508",
     "status": "completed"
    },
    "tags": []
   },
   "outputs": [
    {
     "data": {
      "image/png": "[encoded data removed]",
      "text/plain": [
       "<Figure size 432x288 with 1 Axes>"
      ]
     },
     "metadata": {},
     "output_type": "display_data"
    }
   ],
   "source": [
    "labels = 'Average', 'Above Average', 'Good', 'Very Good', 'Below Average','Excellent', 'Fair', 'Very Excellent', 'Poor', 'Very Poor' \n",
    "explode = (0, 0.0, 0.0, 0.1, 0.1, 0.1, 0.2, 0.3, 0.5, 0.7)\n",
    "\n",
    "fig1, ax1 = plt.subplots()\n",
    "ax1.pie(train['OverallQual'].value_counts(), explode=explode, labels=labels, autopct='%1.1f%%',\n",
    "        shadow=True, startangle=30)\n",
    "ax1.axis('equal')\n",
    "plt.show()"
   ]
  },
  {
   "cell_type": "markdown",
   "id": "victorian-touch",
   "metadata": {
    "papermill": {
     "duration": 0.06858,
     "end_time": "2021-06-14T20:15:39.430019",
     "exception": false,
     "start_time": "2021-06-14T20:15:39.361439",
     "status": "completed"
    },
    "tags": []
   },
   "source": [
    "`27.3%` houses of the train dataset has `Average` quality. And `0.1%` houses are `Very Poor` in quality.\n",
    "\n",
    "Let's see the `SalePrice` variation w.r.t `OverallQual`"
   ]
  },
  {
   "cell_type": "code",
   "execution_count": 21,
   "id": "vocational-instrumentation",
   "metadata": {
    "execution": {
     "iopub.execute_input": "2021-06-14T20:15:39.571925Z",
     "iopub.status.busy": "2021-06-14T20:15:39.571259Z",
     "iopub.status.idle": "2021-06-14T20:15:40.098691Z",
     "shell.execute_reply": "2021-06-14T20:15:40.098146Z",
     "shell.execute_reply.started": "2021-06-14T19:00:08.202484Z"
    },
    "papermill": {
     "duration": 0.598971,
     "end_time": "2021-06-14T20:15:40.098848",
     "exception": false,
     "start_time": "2021-06-14T20:15:39.499877",
     "status": "completed"
    },
    "tags": []
   },
   "outputs": [
    {
     "data": {
      "image/png": "[encoded data removed]",
      "text/plain": [
       "<Figure size 432x288 with 1 Axes>"
      ]
     },
     "metadata": {
      "needs_background": "light"
     },
     "output_type": "display_data"
    }
   ],
   "source": [
    "fig = sns.barplot(x = 'OverallQual',y = 'SalePrice', data = train)\n",
    "fig.set_xticklabels(labels=['Very Poor', 'Poor', 'Fair', 'Below Average', 'Average', 'Above Average', 'Good', 'Very Good', 'Excellent', 'Very Excellent'], rotation=90);"
   ]
  },
  {
   "cell_type": "markdown",
   "id": "thousand-convenience",
   "metadata": {
    "papermill": {
     "duration": 0.069426,
     "end_time": "2021-06-14T20:15:40.238339",
     "exception": false,
     "start_time": "2021-06-14T20:15:40.168913",
     "status": "completed"
    },
    "tags": []
   },
   "source": [
    "`Foundation` is another important feature. It represent how strong a bulding can be. Buildings life depends on it. So, this column worth analysing."
   ]
  },
  {
   "cell_type": "code",
   "execution_count": 22,
   "id": "committed-quarterly",
   "metadata": {
    "execution": {
     "iopub.execute_input": "2021-06-14T20:15:40.395516Z",
     "iopub.status.busy": "2021-06-14T20:15:40.393975Z",
     "iopub.status.idle": "2021-06-14T20:15:40.538846Z",
     "shell.execute_reply": "2021-06-14T20:15:40.538270Z",
     "shell.execute_reply.started": "2021-06-14T19:00:14.027198Z"
    },
    "papermill": {
     "duration": 0.22783,
     "end_time": "2021-06-14T20:15:40.538988",
     "exception": false,
     "start_time": "2021-06-14T20:15:40.311158",
     "status": "completed"
    },
    "tags": []
   },
   "outputs": [
    {
     "data": {
      "image/png": "[encoded data removed]",
      "text/plain": [
       "<Figure size 432x288 with 1 Axes>"
      ]
     },
     "metadata": {},
     "output_type": "display_data"
    }
   ],
   "source": [
    "labels = 'Poured Contrete', 'Cinder Block', 'Brick & Tile', 'Slab', 'Stone', 'Wood'\n",
    "explode = (0, 0.0, 0.0, 0.1, 0.3, 0.5)\n",
    "\n",
    "fig1, ax1 = plt.subplots()\n",
    "ax1.pie(train['Foundation'].value_counts(), explode=explode, labels=labels, autopct='%1.1f%%',\n",
    "        shadow=True, startangle=30)\n",
    "ax1.axis('equal')\n",
    "plt.show()"
   ]
  },
  {
   "cell_type": "code",
   "execution_count": 23,
   "id": "missing-coordination",
   "metadata": {
    "execution": {
     "iopub.execute_input": "2021-06-14T20:15:40.699066Z",
     "iopub.status.busy": "2021-06-14T20:15:40.688426Z",
     "iopub.status.idle": "2021-06-14T20:15:41.067776Z",
     "shell.execute_reply": "2021-06-14T20:15:41.067248Z",
     "shell.execute_reply.started": "2021-06-14T19:04:29.791105Z"
    },
    "papermill": {
     "duration": 0.457918,
     "end_time": "2021-06-14T20:15:41.067959",
     "exception": false,
     "start_time": "2021-06-14T20:15:40.610041",
     "status": "completed"
    },
    "tags": []
   },
   "outputs": [
    {
     "data": {
      "image/png": "[encoded data removed]",
      "text/plain": [
       "<Figure size 432x288 with 1 Axes>"
      ]
     },
     "metadata": {
      "needs_background": "light"
     },
     "output_type": "display_data"
    }
   ],
   "source": [
    "fig = sns.barplot(x = 'Foundation',y = 'SalePrice', data = train)\n",
    "fig.set_xticklabels(labels=['Poured Contrete', 'Cinder Block', 'Brick & Tile', 'Wood', 'Slab', 'Stone'], rotation=90)\n",
    "plt.xlabel(\"Types of Foundation\");"
   ]
  },
  {
   "cell_type": "markdown",
   "id": "bizarre-mother",
   "metadata": {
    "papermill": {
     "duration": 0.071585,
     "end_time": "2021-06-14T20:15:41.212517",
     "exception": false,
     "start_time": "2021-06-14T20:15:41.140932",
     "status": "completed"
    },
    "tags": []
   },
   "source": [
    "Let's see how `SalePrice` varies w.r.t `GarageCars`"
   ]
  },
  {
   "cell_type": "code",
   "execution_count": 24,
   "id": "bigger-colon",
   "metadata": {
    "execution": {
     "iopub.execute_input": "2021-06-14T20:15:41.364966Z",
     "iopub.status.busy": "2021-06-14T20:15:41.364175Z",
     "iopub.status.idle": "2021-06-14T20:15:41.691283Z",
     "shell.execute_reply": "2021-06-14T20:15:41.690628Z",
     "shell.execute_reply.started": "2021-06-14T19:05:07.537449Z"
    },
    "papermill": {
     "duration": 0.405746,
     "end_time": "2021-06-14T20:15:41.691420",
     "exception": false,
     "start_time": "2021-06-14T20:15:41.285674",
     "status": "completed"
    },
    "tags": []
   },
   "outputs": [
    {
     "data": {
      "image/png": "[encoded data removed]",
      "text/plain": [
       "<Figure size 432x288 with 1 Axes>"
      ]
     },
     "metadata": {
      "needs_background": "light"
     },
     "output_type": "display_data"
    }
   ],
   "source": [
    "fig = sns.barplot(x = 'GarageCars',y = 'SalePrice', data = train)\n",
    "fig.set_xticklabels(labels=['No car', '1 car', '2 cars', '3 cars', '4 cars'], rotation=90)\n",
    "plt.xlabel(\"Number of cars in Garage\");"
   ]
  },
  {
   "cell_type": "code",
   "execution_count": 25,
   "id": "formed-korean",
   "metadata": {
    "execution": {
     "iopub.execute_input": "2021-06-14T20:15:41.843468Z",
     "iopub.status.busy": "2021-06-14T20:15:41.842812Z",
     "iopub.status.idle": "2021-06-14T20:15:42.138509Z",
     "shell.execute_reply": "2021-06-14T20:15:42.137938Z",
     "shell.execute_reply.started": "2021-06-14T19:08:36.723080Z"
    },
    "papermill": {
     "duration": 0.374746,
     "end_time": "2021-06-14T20:15:42.138672",
     "exception": false,
     "start_time": "2021-06-14T20:15:41.763926",
     "status": "completed"
    },
    "tags": []
   },
   "outputs": [
    {
     "data": {
      "image/png": "[encoded data removed]",
      "text/plain": [
       "<Figure size 432x288 with 1 Axes>"
      ]
     },
     "metadata": {
      "needs_background": "light"
     },
     "output_type": "display_data"
    }
   ],
   "source": [
    "fig = sns.barplot(x = 'Fireplaces',y = 'SalePrice', data = train)\n",
    "fig.set_xticklabels(labels=['No Fireplace', '1 Fireplaces', '2 Fireplaces', '3 Fireplaces'], rotation=90)\n",
    "plt.xlabel(\"Number of Fireplaces\");"
   ]
  },
  {
   "cell_type": "markdown",
   "id": "certain-guinea",
   "metadata": {
    "papermill": {
     "duration": 0.073556,
     "end_time": "2021-06-14T20:15:42.285041",
     "exception": false,
     "start_time": "2021-06-14T20:15:42.211485",
     "status": "completed"
    },
    "tags": []
   },
   "source": [
    "Let's plot a distribution plot of `YearBuilt` column representing the year of a house was bult w.r.t saleprice"
   ]
  },
  {
   "cell_type": "code",
   "execution_count": 26,
   "id": "relative-transportation",
   "metadata": {
    "execution": {
     "iopub.execute_input": "2021-06-14T20:15:42.466711Z",
     "iopub.status.busy": "2021-06-14T20:15:42.449928Z",
     "iopub.status.idle": "2021-06-14T20:15:42.665833Z",
     "shell.execute_reply": "2021-06-14T20:15:42.664980Z",
     "shell.execute_reply.started": "2021-06-14T19:09:13.961735Z"
    },
    "papermill": {
     "duration": 0.305844,
     "end_time": "2021-06-14T20:15:42.665977",
     "exception": false,
     "start_time": "2021-06-14T20:15:42.360133",
     "status": "completed"
    },
    "tags": []
   },
   "outputs": [
    {
     "data": {
      "image/png": "[encoded data removed]",
      "text/plain": [
       "<Figure size 360x360 with 1 Axes>"
      ]
     },
     "metadata": {
      "needs_background": "light"
     },
     "output_type": "display_data"
    }
   ],
   "source": [
    "sns.displot(x = 'YearBuilt', y = 'SalePrice', data = train);"
   ]
  },
  {
   "cell_type": "code",
   "execution_count": 27,
   "id": "driven-produce",
   "metadata": {
    "execution": {
     "iopub.execute_input": "2021-06-14T20:15:42.821206Z",
     "iopub.status.busy": "2021-06-14T20:15:42.820525Z",
     "iopub.status.idle": "2021-06-14T20:15:43.571491Z",
     "shell.execute_reply": "2021-06-14T20:15:43.570987Z",
     "shell.execute_reply.started": "2021-06-14T19:09:26.064841Z"
    },
    "papermill": {
     "duration": 0.831072,
     "end_time": "2021-06-14T20:15:43.571652",
     "exception": false,
     "start_time": "2021-06-14T20:15:42.740580",
     "status": "completed"
    },
    "tags": []
   },
   "outputs": [
    {
     "data": {
      "image/png": "[encoded data removed]",
      "text/plain": [
       "<Figure size 792x648 with 2 Axes>"
      ]
     },
     "metadata": {
      "needs_background": "light"
     },
     "output_type": "display_data"
    }
   ],
   "source": [
    "corr = train.corr()\n",
    "mask = np.triu(np.ones_like(corr, dtype=bool))\n",
    "f, ax = plt.subplots(figsize=(11, 9))\n",
    "cmap = sns.diverging_palette(230, 20, as_cmap=True)\n",
    "sns.heatmap(corr, mask=mask, cmap=cmap, vmax=.3, center=0,\n",
    "            square=True, linewidths=.5, cbar_kws={\"shrink\": .5});"
   ]
  },
  {
   "cell_type": "markdown",
   "id": "executed-absolute",
   "metadata": {
    "papermill": {
     "duration": 0.07532,
     "end_time": "2021-06-14T20:15:43.722571",
     "exception": false,
     "start_time": "2021-06-14T20:15:43.647251",
     "status": "completed"
    },
    "tags": []
   },
   "source": [
    "# Feature Engineering"
   ]
  },
  {
   "cell_type": "markdown",
   "id": "hispanic-projector",
   "metadata": {
    "papermill": {
     "duration": 0.077392,
     "end_time": "2021-06-14T20:15:43.875449",
     "exception": false,
     "start_time": "2021-06-14T20:15:43.798057",
     "status": "completed"
    },
    "tags": []
   },
   "source": [
    "#### Reducing `Skewness` and `kurtosis` from data."
   ]
  },
  {
   "cell_type": "code",
   "execution_count": 28,
   "id": "challenging-houston",
   "metadata": {
    "execution": {
     "iopub.execute_input": "2021-06-14T20:15:44.072898Z",
     "iopub.status.busy": "2021-06-14T20:15:44.072165Z",
     "iopub.status.idle": "2021-06-14T20:15:44.749269Z",
     "shell.execute_reply": "2021-06-14T20:15:44.748768Z",
     "shell.execute_reply.started": "2021-06-14T20:10:50.815481Z"
    },
    "papermill": {
     "duration": 0.798128,
     "end_time": "2021-06-14T20:15:44.749416",
     "exception": false,
     "start_time": "2021-06-14T20:15:43.951288",
     "status": "completed"
    },
    "tags": []
   },
   "outputs": [
    {
     "data": {
      "image/png": "[encoded data removed]",
      "text/plain": [
       "<Figure size 360x360 with 1 Axes>"
      ]
     },
     "metadata": {
      "needs_background": "light"
     },
     "output_type": "display_data"
    }
   ],
   "source": [
    "sns.displot(x = 'LotArea', data = train, kde = True)\n",
    "skewness=str(train[\"LotArea\"].skew())\n",
    "kurtosis=str(train[\"LotArea\"].kurt())\n",
    "plt.legend([skewness,kurtosis],title=(\"skewness and kurtosis\"))\n",
    "plt.title(\"Before applying transform technique\")\n",
    "plt.show()"
   ]
  },
  {
   "cell_type": "code",
   "execution_count": 29,
   "id": "infectious-numbers",
   "metadata": {
    "execution": {
     "iopub.execute_input": "2021-06-14T20:15:44.936003Z",
     "iopub.status.busy": "2021-06-14T20:15:44.910051Z",
     "iopub.status.idle": "2021-06-14T20:15:45.350790Z",
     "shell.execute_reply": "2021-06-14T20:15:45.350135Z",
     "shell.execute_reply.started": "2021-06-14T20:10:56.247066Z"
    },
    "papermill": {
     "duration": 0.52475,
     "end_time": "2021-06-14T20:15:45.350935",
     "exception": false,
     "start_time": "2021-06-14T20:15:44.826185",
     "status": "completed"
    },
    "tags": []
   },
   "outputs": [
    {
     "data": {
      "image/png": "[encoded data removed]",
      "text/plain": [
       "<Figure size 360x360 with 1 Axes>"
      ]
     },
     "metadata": {
      "needs_background": "light"
     },
     "output_type": "display_data"
    }
   ],
   "source": [
    "#applying log transform\n",
    "train['LotArea']=np.log(train['LotArea'])\n",
    "sns.displot(x = 'LotArea', data = train, kde = True)\n",
    "skewness=str(train[\"LotArea\"].skew())\n",
    "kurtosis=str(train[\"LotArea\"].kurt())\n",
    "plt.legend([skewness,kurtosis],title=(\"skewness and kurtosis\"))\n",
    "plt.title(\"After applying transform technique\")\n",
    "plt.show()"
   ]
  },
  {
   "cell_type": "code",
   "execution_count": 30,
   "id": "separated-springfield",
   "metadata": {
    "execution": {
     "iopub.execute_input": "2021-06-14T20:15:45.674423Z",
     "iopub.status.busy": "2021-06-14T20:15:45.673461Z",
     "iopub.status.idle": "2021-06-14T20:15:45.992614Z",
     "shell.execute_reply": "2021-06-14T20:15:45.992051Z",
     "shell.execute_reply.started": "2021-06-14T20:11:46.882742Z"
    },
    "papermill": {
     "duration": 0.563735,
     "end_time": "2021-06-14T20:15:45.992783",
     "exception": false,
     "start_time": "2021-06-14T20:15:45.429048",
     "status": "completed"
    },
    "tags": []
   },
   "outputs": [
    {
     "data": {
      "image/png": "[encoded data removed]",
      "text/plain": [
       "<Figure size 360x360 with 1 Axes>"
      ]
     },
     "metadata": {
      "needs_background": "light"
     },
     "output_type": "display_data"
    }
   ],
   "source": [
    "sns.displot(x = 'GrLivArea', data = train, kde = True)\n",
    "skewness=str(train[\"GrLivArea\"].skew())\n",
    "kurtosis=str(train[\"GrLivArea\"].kurt())\n",
    "plt.legend([skewness,kurtosis],title=(\"skewness and kurtosis\"))\n",
    "plt.title(\"Before applying transform technique\")\n",
    "plt.show()"
   ]
  },
  {
   "cell_type": "code",
   "execution_count": 31,
   "id": "occasional-count",
   "metadata": {
    "execution": {
     "iopub.execute_input": "2021-06-14T20:15:46.195944Z",
     "iopub.status.busy": "2021-06-14T20:15:46.155841Z",
     "iopub.status.idle": "2021-06-14T20:15:46.522323Z",
     "shell.execute_reply": "2021-06-14T20:15:46.521781Z",
     "shell.execute_reply.started": "2021-06-14T20:12:06.519203Z"
    },
    "papermill": {
     "duration": 0.450787,
     "end_time": "2021-06-14T20:15:46.522476",
     "exception": false,
     "start_time": "2021-06-14T20:15:46.071689",
     "status": "completed"
    },
    "tags": []
   },
   "outputs": [
    {
     "data": {
      "image/png": "[encoded data removed]",
      "text/plain": [
       "<Figure size 360x360 with 1 Axes>"
      ]
     },
     "metadata": {
      "needs_background": "light"
     },
     "output_type": "display_data"
    }
   ],
   "source": [
    "train['GrLivArea']=np.log(train['GrLivArea'])\n",
    "sns.displot(x = 'GrLivArea', data = train, kde = True)\n",
    "skewness=str(train[\"GrLivArea\"].skew())\n",
    "kurtosis=str(train[\"GrLivArea\"].kurt())\n",
    "plt.legend([skewness,kurtosis],title=(\"skewness and kurtosis\"))\n",
    "plt.title(\"After applying transform technique\")\n",
    "plt.show()"
   ]
  },
  {
   "cell_type": "code",
   "execution_count": 32,
   "id": "spoken-orange",
   "metadata": {
    "execution": {
     "iopub.execute_input": "2021-06-14T20:15:46.716305Z",
     "iopub.status.busy": "2021-06-14T20:15:46.715588Z",
     "iopub.status.idle": "2021-06-14T20:15:47.183685Z",
     "shell.execute_reply": "2021-06-14T20:15:47.184181Z",
     "shell.execute_reply.started": "2021-06-14T20:12:39.694250Z"
    },
    "papermill": {
     "duration": 0.58157,
     "end_time": "2021-06-14T20:15:47.184400",
     "exception": false,
     "start_time": "2021-06-14T20:15:46.602830",
     "status": "completed"
    },
    "tags": []
   },
   "outputs": [
    {
     "data": {
      "image/png": "[encoded data removed]",
      "text/plain": [
       "<Figure size 360x360 with 1 Axes>"
      ]
     },
     "metadata": {
      "needs_background": "light"
     },
     "output_type": "display_data"
    }
   ],
   "source": [
    "sns.displot(x = 'LotFrontage', data = train, kde = True)\n",
    "skewness=str(train[\"LotFrontage\"].skew())\n",
    "kurtosis=str(train[\"LotFrontage\"].kurt())\n",
    "plt.legend([skewness,kurtosis],title=(\"skewness and kurtosis\"))\n",
    "plt.title(\"Before applying transform technique\")\n",
    "plt.show()"
   ]
  },
  {
   "cell_type": "code",
   "execution_count": 33,
   "id": "verified-summary",
   "metadata": {
    "execution": {
     "iopub.execute_input": "2021-06-14T20:15:47.350041Z",
     "iopub.status.busy": "2021-06-14T20:15:47.349341Z",
     "iopub.status.idle": "2021-06-14T20:15:47.779880Z",
     "shell.execute_reply": "2021-06-14T20:15:47.780362Z",
     "shell.execute_reply.started": "2021-06-14T20:13:01.954315Z"
    },
    "papermill": {
     "duration": 0.514945,
     "end_time": "2021-06-14T20:15:47.780543",
     "exception": false,
     "start_time": "2021-06-14T20:15:47.265598",
     "status": "completed"
    },
    "tags": []
   },
   "outputs": [
    {
     "data": {
      "image/png": "[encoded data removed]",
      "text/plain": [
       "<Figure size 360x360 with 1 Axes>"
      ]
     },
     "metadata": {
      "needs_background": "light"
     },
     "output_type": "display_data"
    }
   ],
   "source": [
    "train['LotFrontage'] = np.cbrt(train['LotFrontage'])\n",
    "sns.displot(x = 'LotFrontage', data = train, kde = True)\n",
    "skewness=str(train[\"LotFrontage\"].skew())\n",
    "kurtosis=str(train[\"LotFrontage\"].kurt())\n",
    "plt.legend([skewness,kurtosis],title=(\"skewness and kurtosis\"))\n",
    "plt.title(\"After applying transform technique\")\n",
    "plt.show()"
   ]
  },
  {
   "cell_type": "markdown",
   "id": "wooden-economy",
   "metadata": {
    "papermill": {
     "duration": 0.081406,
     "end_time": "2021-06-14T20:15:47.945331",
     "exception": false,
     "start_time": "2021-06-14T20:15:47.863925",
     "status": "completed"
    },
    "tags": []
   },
   "source": [
    "# Modeling"
   ]
  },
  {
   "cell_type": "markdown",
   "id": "endless-accountability",
   "metadata": {
    "papermill": {
     "duration": 0.082003,
     "end_time": "2021-06-14T20:15:48.108957",
     "exception": false,
     "start_time": "2021-06-14T20:15:48.026954",
     "status": "completed"
    },
    "tags": []
   },
   "source": [
    "It's time to create our independent and dependent matrix of feature."
   ]
  },
  {
   "cell_type": "code",
   "execution_count": 34,
   "id": "disciplinary-object",
   "metadata": {
    "execution": {
     "iopub.execute_input": "2021-06-14T20:15:48.276598Z",
     "iopub.status.busy": "2021-06-14T20:15:48.275948Z",
     "iopub.status.idle": "2021-06-14T20:15:48.281526Z",
     "shell.execute_reply": "2021-06-14T20:15:48.281997Z",
     "shell.execute_reply.started": "2021-06-14T20:13:12.691144Z"
    },
    "papermill": {
     "duration": 0.091034,
     "end_time": "2021-06-14T20:15:48.282176",
     "exception": false,
     "start_time": "2021-06-14T20:15:48.191142",
     "status": "completed"
    },
    "tags": []
   },
   "outputs": [],
   "source": [
    "x = train.drop(['SalePrice'], axis = 1)\n",
    "y = train['SalePrice']"
   ]
  },
  {
   "cell_type": "code",
   "execution_count": 35,
   "id": "fatty-source",
   "metadata": {
    "execution": {
     "iopub.execute_input": "2021-06-14T20:15:48.448728Z",
     "iopub.status.busy": "2021-06-14T20:15:48.448077Z",
     "iopub.status.idle": "2021-06-14T20:15:48.470756Z",
     "shell.execute_reply": "2021-06-14T20:15:48.471235Z",
     "shell.execute_reply.started": "2021-06-14T20:13:37.853599Z"
    },
    "papermill": {
     "duration": 0.107545,
     "end_time": "2021-06-14T20:15:48.471418",
     "exception": false,
     "start_time": "2021-06-14T20:15:48.363873",
     "status": "completed"
    },
    "tags": []
   },
   "outputs": [],
   "source": [
    "#labelencoding categorical variables from x\n",
    "from sklearn.preprocessing import LabelEncoder\n",
    "x = x.apply(LabelEncoder().fit_transform)"
   ]
  },
  {
   "cell_type": "code",
   "execution_count": 36,
   "id": "respected-gauge",
   "metadata": {
    "execution": {
     "iopub.execute_input": "2021-06-14T20:15:48.639840Z",
     "iopub.status.busy": "2021-06-14T20:15:48.638897Z",
     "iopub.status.idle": "2021-06-14T20:15:48.657802Z",
     "shell.execute_reply": "2021-06-14T20:15:48.657294Z",
     "shell.execute_reply.started": "2021-06-14T20:13:39.366317Z"
    },
    "papermill": {
     "duration": 0.104035,
     "end_time": "2021-06-14T20:15:48.657945",
     "exception": false,
     "start_time": "2021-06-14T20:15:48.553910",
     "status": "completed"
    },
    "tags": []
   },
   "outputs": [
    {
     "data": {
      "text/html": [
       "<div>\n",
       "<style scoped>\n",
       "    .dataframe tbody tr th:only-of-type {\n",
       "        vertical-align: middle;\n",
       "    }\n",
       "\n",
       "    .dataframe tbody tr th {\n",
       "        vertical-align: top;\n",
       "    }\n",
       "\n",
       "    .dataframe thead th {\n",
       "        text-align: right;\n",
       "    }\n",
       "</style>\n",
       "<table border=\"1\" class=\"dataframe\">\n",
       "  <thead>\n",
       "    <tr style=\"text-align: right;\">\n",
       "      <th></th>\n",
       "      <th>LotFrontage</th>\n",
       "      <th>LotArea</th>\n",
       "      <th>Neighborhood</th>\n",
       "      <th>Condition1</th>\n",
       "      <th>HouseStyle</th>\n",
       "      <th>OverallQual</th>\n",
       "      <th>YearBuilt</th>\n",
       "      <th>YearRemodAdd</th>\n",
       "      <th>RoofStyle</th>\n",
       "      <th>RoofMatl</th>\n",
       "      <th>...</th>\n",
       "      <th>GarageYrBlt</th>\n",
       "      <th>GarageCars</th>\n",
       "      <th>GarageArea</th>\n",
       "      <th>GarageQual</th>\n",
       "      <th>GarageCond</th>\n",
       "      <th>PavedDrive</th>\n",
       "      <th>WoodDeckSF</th>\n",
       "      <th>OpenPorchSF</th>\n",
       "      <th>ScreenPorch</th>\n",
       "      <th>SaleCondition</th>\n",
       "    </tr>\n",
       "  </thead>\n",
       "  <tbody>\n",
       "    <tr>\n",
       "      <th>0</th>\n",
       "      <td>36</td>\n",
       "      <td>327</td>\n",
       "      <td>5</td>\n",
       "      <td>2</td>\n",
       "      <td>5</td>\n",
       "      <td>6</td>\n",
       "      <td>104</td>\n",
       "      <td>53</td>\n",
       "      <td>1</td>\n",
       "      <td>0</td>\n",
       "      <td>...</td>\n",
       "      <td>90</td>\n",
       "      <td>2</td>\n",
       "      <td>220</td>\n",
       "      <td>5</td>\n",
       "      <td>5</td>\n",
       "      <td>2</td>\n",
       "      <td>0</td>\n",
       "      <td>49</td>\n",
       "      <td>0</td>\n",
       "      <td>4</td>\n",
       "    </tr>\n",
       "    <tr>\n",
       "      <th>1</th>\n",
       "      <td>52</td>\n",
       "      <td>498</td>\n",
       "      <td>24</td>\n",
       "      <td>1</td>\n",
       "      <td>2</td>\n",
       "      <td>5</td>\n",
       "      <td>77</td>\n",
       "      <td>26</td>\n",
       "      <td>1</td>\n",
       "      <td>0</td>\n",
       "      <td>...</td>\n",
       "      <td>63</td>\n",
       "      <td>2</td>\n",
       "      <td>149</td>\n",
       "      <td>5</td>\n",
       "      <td>5</td>\n",
       "      <td>2</td>\n",
       "      <td>187</td>\n",
       "      <td>0</td>\n",
       "      <td>0</td>\n",
       "      <td>4</td>\n",
       "    </tr>\n",
       "    <tr>\n",
       "      <th>2</th>\n",
       "      <td>39</td>\n",
       "      <td>702</td>\n",
       "      <td>5</td>\n",
       "      <td>2</td>\n",
       "      <td>5</td>\n",
       "      <td>6</td>\n",
       "      <td>102</td>\n",
       "      <td>52</td>\n",
       "      <td>1</td>\n",
       "      <td>0</td>\n",
       "      <td>...</td>\n",
       "      <td>88</td>\n",
       "      <td>2</td>\n",
       "      <td>260</td>\n",
       "      <td>5</td>\n",
       "      <td>5</td>\n",
       "      <td>2</td>\n",
       "      <td>0</td>\n",
       "      <td>30</td>\n",
       "      <td>0</td>\n",
       "      <td>4</td>\n",
       "    </tr>\n",
       "    <tr>\n",
       "      <th>3</th>\n",
       "      <td>31</td>\n",
       "      <td>489</td>\n",
       "      <td>6</td>\n",
       "      <td>2</td>\n",
       "      <td>5</td>\n",
       "      <td>6</td>\n",
       "      <td>19</td>\n",
       "      <td>20</td>\n",
       "      <td>1</td>\n",
       "      <td>0</td>\n",
       "      <td>...</td>\n",
       "      <td>85</td>\n",
       "      <td>3</td>\n",
       "      <td>284</td>\n",
       "      <td>5</td>\n",
       "      <td>5</td>\n",
       "      <td>2</td>\n",
       "      <td>0</td>\n",
       "      <td>24</td>\n",
       "      <td>0</td>\n",
       "      <td>0</td>\n",
       "    </tr>\n",
       "    <tr>\n",
       "      <th>4</th>\n",
       "      <td>56</td>\n",
       "      <td>925</td>\n",
       "      <td>15</td>\n",
       "      <td>2</td>\n",
       "      <td>5</td>\n",
       "      <td>7</td>\n",
       "      <td>101</td>\n",
       "      <td>50</td>\n",
       "      <td>1</td>\n",
       "      <td>0</td>\n",
       "      <td>...</td>\n",
       "      <td>87</td>\n",
       "      <td>3</td>\n",
       "      <td>378</td>\n",
       "      <td>5</td>\n",
       "      <td>5</td>\n",
       "      <td>2</td>\n",
       "      <td>118</td>\n",
       "      <td>70</td>\n",
       "      <td>0</td>\n",
       "      <td>4</td>\n",
       "    </tr>\n",
       "  </tbody>\n",
       "</table>\n",
       "<p>5 rows × 42 columns</p>\n",
       "</div>"
      ],
      "text/plain": [
       "   LotFrontage  LotArea  Neighborhood  Condition1  HouseStyle  OverallQual  \\\n",
       "0           36      327             5           2           5            6   \n",
       "1           52      498            24           1           2            5   \n",
       "2           39      702             5           2           5            6   \n",
       "3           31      489             6           2           5            6   \n",
       "4           56      925            15           2           5            7   \n",
       "\n",
       "   YearBuilt  YearRemodAdd  RoofStyle  RoofMatl  ...  GarageYrBlt  GarageCars  \\\n",
       "0        104            53          1         0  ...           90           2   \n",
       "1         77            26          1         0  ...           63           2   \n",
       "2        102            52          1         0  ...           88           2   \n",
       "3         19            20          1         0  ...           85           3   \n",
       "4        101            50          1         0  ...           87           3   \n",
       "\n",
       "   GarageArea  GarageQual  GarageCond  PavedDrive  WoodDeckSF  OpenPorchSF  \\\n",
       "0         220           5           5           2           0           49   \n",
       "1         149           5           5           2         187            0   \n",
       "2         260           5           5           2           0           30   \n",
       "3         284           5           5           2           0           24   \n",
       "4         378           5           5           2         118           70   \n",
       "\n",
       "   ScreenPorch  SaleCondition  \n",
       "0            0              4  \n",
       "1            0              4  \n",
       "2            0              4  \n",
       "3            0              0  \n",
       "4            0              4  \n",
       "\n",
       "[5 rows x 42 columns]"
      ]
     },
     "execution_count": 36,
     "metadata": {},
     "output_type": "execute_result"
    }
   ],
   "source": [
    "x.head()"
   ]
  },
  {
   "cell_type": "code",
   "execution_count": 37,
   "id": "portuguese-roberts",
   "metadata": {
    "execution": {
     "iopub.execute_input": "2021-06-14T20:15:48.834697Z",
     "iopub.status.busy": "2021-06-14T20:15:48.833686Z",
     "iopub.status.idle": "2021-06-14T20:15:48.837568Z",
     "shell.execute_reply": "2021-06-14T20:15:48.838055Z",
     "shell.execute_reply.started": "2021-06-14T20:13:41.644705Z"
    },
    "papermill": {
     "duration": 0.095046,
     "end_time": "2021-06-14T20:15:48.838229",
     "exception": false,
     "start_time": "2021-06-14T20:15:48.743183",
     "status": "completed"
    },
    "tags": []
   },
   "outputs": [
    {
     "data": {
      "text/plain": [
       "0    208500\n",
       "1    181500\n",
       "2    223500\n",
       "3    140000\n",
       "4    250000\n",
       "Name: SalePrice, dtype: int64"
      ]
     },
     "execution_count": 37,
     "metadata": {},
     "output_type": "execute_result"
    }
   ],
   "source": [
    "y.head()"
   ]
  },
  {
   "cell_type": "code",
   "execution_count": 38,
   "id": "daily-quarterly",
   "metadata": {
    "execution": {
     "iopub.execute_input": "2021-06-14T20:15:49.010518Z",
     "iopub.status.busy": "2021-06-14T20:15:49.009617Z",
     "iopub.status.idle": "2021-06-14T20:15:49.013161Z",
     "shell.execute_reply": "2021-06-14T20:15:49.013624Z",
     "shell.execute_reply.started": "2021-06-08T10:10:31.278056Z"
    },
    "papermill": {
     "duration": 0.09197,
     "end_time": "2021-06-14T20:15:49.013814",
     "exception": false,
     "start_time": "2021-06-14T20:15:48.921844",
     "status": "completed"
    },
    "tags": []
   },
   "outputs": [
    {
     "data": {
      "text/plain": [
       "((1453, 42), (1453,))"
      ]
     },
     "execution_count": 38,
     "metadata": {},
     "output_type": "execute_result"
    }
   ],
   "source": [
    "x.shape, y.shape"
   ]
  },
  {
   "cell_type": "code",
   "execution_count": 39,
   "id": "round-adrian",
   "metadata": {
    "execution": {
     "iopub.execute_input": "2021-06-14T20:15:49.184341Z",
     "iopub.status.busy": "2021-06-14T20:15:49.183387Z",
     "iopub.status.idle": "2021-06-14T20:15:49.248716Z",
     "shell.execute_reply": "2021-06-14T20:15:49.248109Z",
     "shell.execute_reply.started": "2021-06-14T20:13:44.181059Z"
    },
    "papermill": {
     "duration": 0.152467,
     "end_time": "2021-06-14T20:15:49.248878",
     "exception": false,
     "start_time": "2021-06-14T20:15:49.096411",
     "status": "completed"
    },
    "tags": []
   },
   "outputs": [],
   "source": [
    "#splitting the dataset into train and test set.\n",
    "from sklearn.model_selection import train_test_split\n",
    "x_train,x_test,y_train,y_test = train_test_split(x,y,random_state = 31)"
   ]
  },
  {
   "cell_type": "code",
   "execution_count": 40,
   "id": "affecting-palmer",
   "metadata": {
    "execution": {
     "iopub.execute_input": "2021-06-14T20:15:49.423604Z",
     "iopub.status.busy": "2021-06-14T20:15:49.422735Z",
     "iopub.status.idle": "2021-06-14T20:15:49.426241Z",
     "shell.execute_reply": "2021-06-14T20:15:49.426686Z",
     "shell.execute_reply.started": "2021-06-14T20:13:45.917594Z"
    },
    "papermill": {
     "duration": 0.093017,
     "end_time": "2021-06-14T20:15:49.426867",
     "exception": false,
     "start_time": "2021-06-14T20:15:49.333850",
     "status": "completed"
    },
    "tags": []
   },
   "outputs": [
    {
     "data": {
      "text/plain": [
       "(1089, 364, 1089, 364)"
      ]
     },
     "execution_count": 40,
     "metadata": {},
     "output_type": "execute_result"
    }
   ],
   "source": [
    "len(x_train), len(x_test), len(y_train), len(y_test)"
   ]
  },
  {
   "cell_type": "code",
   "execution_count": 41,
   "id": "familiar-submission",
   "metadata": {
    "execution": {
     "iopub.execute_input": "2021-06-14T20:15:49.597500Z",
     "iopub.status.busy": "2021-06-14T20:15:49.596537Z",
     "iopub.status.idle": "2021-06-14T20:15:49.608816Z",
     "shell.execute_reply": "2021-06-14T20:15:49.609271Z",
     "shell.execute_reply.started": "2021-06-14T20:13:47.692253Z"
    },
    "papermill": {
     "duration": 0.099218,
     "end_time": "2021-06-14T20:15:49.609450",
     "exception": false,
     "start_time": "2021-06-14T20:15:49.510232",
     "status": "completed"
    },
    "tags": []
   },
   "outputs": [],
   "source": [
    "#Feature scaling\n",
    "from sklearn.preprocessing import StandardScaler\n",
    "scale = StandardScaler()\n",
    "x_train = scale.fit_transform(x_train)\n",
    "x_test = scale.transform(x_test)"
   ]
  },
  {
   "cell_type": "code",
   "execution_count": 42,
   "id": "usual-subject",
   "metadata": {
    "execution": {
     "iopub.execute_input": "2021-06-14T20:15:49.781469Z",
     "iopub.status.busy": "2021-06-14T20:15:49.780807Z",
     "iopub.status.idle": "2021-06-14T20:15:49.784279Z",
     "shell.execute_reply": "2021-06-14T20:15:49.783609Z",
     "shell.execute_reply.started": "2021-06-14T20:13:50.779823Z"
    },
    "papermill": {
     "duration": 0.091846,
     "end_time": "2021-06-14T20:15:49.784426",
     "exception": false,
     "start_time": "2021-06-14T20:15:49.692580",
     "status": "completed"
    },
    "tags": []
   },
   "outputs": [],
   "source": [
    "#model evaluation function\n",
    "from sklearn.metrics import r2_score, mean_absolute_error\n",
    "from sklearn.model_selection import cross_val_score\n",
    "\n",
    "def model_evaluate(y_true, y_pred):\n",
    "    r2 = r2_score(y_true, y_pred)\n",
    "    mae = mean_absolute_error(y_true, y_pred)\n",
    "    return r2, mae\n",
    "    "
   ]
  },
  {
   "cell_type": "markdown",
   "id": "requested-telling",
   "metadata": {
    "papermill": {
     "duration": 0.083389,
     "end_time": "2021-06-14T20:15:49.951210",
     "exception": false,
     "start_time": "2021-06-14T20:15:49.867821",
     "status": "completed"
    },
    "tags": []
   },
   "source": [
    "# Lasso"
   ]
  },
  {
   "cell_type": "code",
   "execution_count": 43,
   "id": "controlling-balance",
   "metadata": {
    "execution": {
     "iopub.execute_input": "2021-06-14T20:15:50.157016Z",
     "iopub.status.busy": "2021-06-14T20:15:50.156319Z",
     "iopub.status.idle": "2021-06-14T20:15:50.506086Z",
     "shell.execute_reply": "2021-06-14T20:15:50.507328Z",
     "shell.execute_reply.started": "2021-06-14T20:13:52.955874Z"
    },
    "papermill": {
     "duration": 0.453381,
     "end_time": "2021-06-14T20:15:50.507572",
     "exception": false,
     "start_time": "2021-06-14T20:15:50.054191",
     "status": "completed"
    },
    "tags": []
   },
   "outputs": [
    {
     "name": "stdout",
     "output_type": "stream",
     "text": [
      "Cross val score: 0.8278706401045717\n",
      "R^2 score: 0.8563418920151011\n",
      "Mean Absolute Erro: 19920.254536806577\n"
     ]
    }
   ],
   "source": [
    "from sklearn import linear_model\n",
    "lasso_reg = linear_model.Lasso(alpha=0.1, random_state = 32).fit(x_train, y_train)\n",
    "cv_r2 = cross_val_score(lasso_reg, x_train, y_train, cv = 10)\n",
    "y_preds = lasso_reg.predict(x_test)\n",
    "cv_r2 = np.mean(cv_r2)\n",
    "print(\"Cross val score: \" + str(cv_r2))\n",
    "r2, mae = model_evaluate(y_test, y_preds)\n",
    "print(\"R^2 score: \" + str(r2))\n",
    "print(\"Mean Absolute Erro: \" + str(mae))"
   ]
  },
  {
   "cell_type": "markdown",
   "id": "better-crest",
   "metadata": {
    "papermill": {
     "duration": 0.085826,
     "end_time": "2021-06-14T20:15:50.720682",
     "exception": false,
     "start_time": "2021-06-14T20:15:50.634856",
     "status": "completed"
    },
    "tags": []
   },
   "source": [
    "# Ridge"
   ]
  },
  {
   "cell_type": "code",
   "execution_count": 44,
   "id": "bound-panel",
   "metadata": {
    "execution": {
     "iopub.execute_input": "2021-06-14T20:15:50.900981Z",
     "iopub.status.busy": "2021-06-14T20:15:50.900293Z",
     "iopub.status.idle": "2021-06-14T20:15:51.071095Z",
     "shell.execute_reply": "2021-06-14T20:15:51.071948Z",
     "shell.execute_reply.started": "2021-06-08T10:10:48.54166Z"
    },
    "papermill": {
     "duration": 0.265812,
     "end_time": "2021-06-14T20:15:51.072212",
     "exception": false,
     "start_time": "2021-06-14T20:15:50.806400",
     "status": "completed"
    },
    "tags": []
   },
   "outputs": [
    {
     "name": "stdout",
     "output_type": "stream",
     "text": [
      "Cross val score: 0.8279207755115884\n",
      "R^2 score: 0.8563675882488648\n",
      "Mean Absolute Erro: 19915.71950193997\n"
     ]
    }
   ],
   "source": [
    "from sklearn import linear_model\n",
    "ridge_reg = linear_model.Ridge(alpha=.5).fit(x_train, y_train)\n",
    "cv_r2 = cross_val_score(ridge_reg, x_train, y_train, cv = 10)\n",
    "y_preds = ridge_reg.predict(x_test)\n",
    "cv_r2 = np.mean(cv_r2)\n",
    "print(\"Cross val score: \" + str(cv_r2))\n",
    "r2, mae = model_evaluate(y_test, y_preds)\n",
    "print(\"R^2 score: \" + str(r2))\n",
    "print(\"Mean Absolute Erro: \" + str(mae))"
   ]
  },
  {
   "cell_type": "markdown",
   "id": "characteristic-secret",
   "metadata": {
    "papermill": {
     "duration": 0.088311,
     "end_time": "2021-06-14T20:15:51.313720",
     "exception": false,
     "start_time": "2021-06-14T20:15:51.225409",
     "status": "completed"
    },
    "tags": []
   },
   "source": [
    "# Random Forest"
   ]
  },
  {
   "cell_type": "code",
   "execution_count": 45,
   "id": "bearing-bearing",
   "metadata": {
    "execution": {
     "iopub.execute_input": "2021-06-14T20:15:51.489206Z",
     "iopub.status.busy": "2021-06-14T20:15:51.488557Z",
     "iopub.status.idle": "2021-06-14T20:17:53.508670Z",
     "shell.execute_reply": "2021-06-14T20:17:53.509204Z",
     "shell.execute_reply.started": "2021-06-08T10:10:52.494957Z"
    },
    "papermill": {
     "duration": 122.110914,
     "end_time": "2021-06-14T20:17:53.509398",
     "exception": false,
     "start_time": "2021-06-14T20:15:51.398484",
     "status": "completed"
    },
    "tags": []
   },
   "outputs": [
    {
     "name": "stdout",
     "output_type": "stream",
     "text": [
      "Cross val score: 0.8689307238336397\n",
      "R^2 score: 0.8966442957076054\n",
      "Mean Absolute Erro: 15891.276332548405\n"
     ]
    }
   ],
   "source": [
    "from sklearn.ensemble import RandomForestRegressor\n",
    "rf_reg = RandomForestRegressor(n_estimators=1000).fit(x_train, y_train)\n",
    "cv_r2 = cross_val_score(rf_reg, x_train, y_train, cv = 10)\n",
    "y_preds = rf_reg.predict(x_test)\n",
    "cv_r2 = np.mean(cv_r2)\n",
    "print(\"Cross val score: \" + str(cv_r2))\n",
    "r2, mae = model_evaluate(y_test, y_preds)\n",
    "print(\"R^2 score: \" + str(r2))\n",
    "print(\"Mean Absolute Erro: \" + str(mae))"
   ]
  },
  {
   "cell_type": "markdown",
   "id": "refined-teacher",
   "metadata": {
    "papermill": {
     "duration": 0.084325,
     "end_time": "2021-06-14T20:17:53.678112",
     "exception": false,
     "start_time": "2021-06-14T20:17:53.593787",
     "status": "completed"
    },
    "tags": []
   },
   "source": [
    "# GradientBoostingRegressor"
   ]
  },
  {
   "cell_type": "code",
   "execution_count": 46,
   "id": "functioning-potter",
   "metadata": {
    "execution": {
     "iopub.execute_input": "2021-06-14T20:17:53.854239Z",
     "iopub.status.busy": "2021-06-14T20:17:53.850364Z",
     "iopub.status.idle": "2021-06-14T20:18:10.374952Z",
     "shell.execute_reply": "2021-06-14T20:18:10.374284Z",
     "shell.execute_reply.started": "2021-06-08T10:12:51.653564Z"
    },
    "papermill": {
     "duration": 16.612181,
     "end_time": "2021-06-14T20:18:10.375099",
     "exception": false,
     "start_time": "2021-06-14T20:17:53.762918",
     "status": "completed"
    },
    "tags": []
   },
   "outputs": [
    {
     "name": "stdout",
     "output_type": "stream",
     "text": [
      "Cross val score: 0.8583668798091466\n",
      "R^2 score: 0.8697009470457316\n",
      "Mean Absolute Erro: 18272.807911483636\n"
     ]
    }
   ],
   "source": [
    "from sklearn.ensemble import GradientBoostingRegressor\n",
    "gbr_reg = GradientBoostingRegressor(n_estimators=1000, learning_rate=0.01, max_depth=1, random_state=31).fit(x_train, y_train)\n",
    "cv_r2 = cross_val_score(gbr_reg, x_train, y_train, cv = 10)\n",
    "y_preds = gbr_reg.predict(x_test)\n",
    "cv_r2 = np.mean(cv_r2)\n",
    "print(\"Cross val score: \" + str(cv_r2))\n",
    "r2, mae = model_evaluate(y_test, y_preds)\n",
    "print(\"R^2 score: \" + str(r2))\n",
    "print(\"Mean Absolute Erro: \" + str(mae))"
   ]
  },
  {
   "cell_type": "markdown",
   "id": "decimal-string",
   "metadata": {
    "papermill": {
     "duration": 0.084875,
     "end_time": "2021-06-14T20:18:10.546060",
     "exception": false,
     "start_time": "2021-06-14T20:18:10.461185",
     "status": "completed"
    },
    "tags": []
   },
   "source": [
    "# Xgboost"
   ]
  },
  {
   "cell_type": "code",
   "execution_count": 47,
   "id": "outside-celebrity",
   "metadata": {
    "execution": {
     "iopub.execute_input": "2021-06-14T20:18:10.722975Z",
     "iopub.status.busy": "2021-06-14T20:18:10.722295Z",
     "iopub.status.idle": "2021-06-14T20:18:35.721820Z",
     "shell.execute_reply": "2021-06-14T20:18:35.722630Z",
     "shell.execute_reply.started": "2021-06-08T10:13:08.890694Z"
    },
    "papermill": {
     "duration": 25.091515,
     "end_time": "2021-06-14T20:18:35.722850",
     "exception": false,
     "start_time": "2021-06-14T20:18:10.631335",
     "status": "completed"
    },
    "tags": []
   },
   "outputs": [
    {
     "name": "stdout",
     "output_type": "stream",
     "text": [
      "Cross val score: 0.8831317673109684\n",
      "R^2 score: 0.9073262243944158\n",
      "Mean Absolute Erro: 15173.665135645604\n"
     ]
    }
   ],
   "source": [
    "import xgboost as XGB\n",
    "xgb = XGB.XGBRegressor(learning_rate=0.01, n_estimators=1000, objective='reg:squarederror', random_state = 31).fit(x_train, y_train)\n",
    "cv_r2 = cross_val_score(xgb, x_train, y_train, cv = 10)\n",
    "y_preds = xgb.predict(x_test)\n",
    "cv_r2 = np.mean(cv_r2)\n",
    "print(\"Cross val score: \" + str(cv_r2))\n",
    "r2, mae = model_evaluate(y_test, y_preds)\n",
    "print(\"R^2 score: \" + str(r2))\n",
    "print(\"Mean Absolute Erro: \" + str(mae))"
   ]
  },
  {
   "cell_type": "markdown",
   "id": "electoral-classroom",
   "metadata": {
    "papermill": {
     "duration": 0.086376,
     "end_time": "2021-06-14T20:18:35.895954",
     "exception": false,
     "start_time": "2021-06-14T20:18:35.809578",
     "status": "completed"
    },
    "tags": []
   },
   "source": [
    "# Preparing test set"
   ]
  },
  {
   "cell_type": "code",
   "execution_count": 48,
   "id": "engaged-mouse",
   "metadata": {
    "execution": {
     "iopub.execute_input": "2021-06-14T20:18:36.072563Z",
     "iopub.status.busy": "2021-06-14T20:18:36.071917Z",
     "iopub.status.idle": "2021-06-14T20:18:36.094801Z",
     "shell.execute_reply": "2021-06-14T20:18:36.095285Z",
     "shell.execute_reply.started": "2021-06-08T10:13:34.342728Z"
    },
    "papermill": {
     "duration": 0.113991,
     "end_time": "2021-06-14T20:18:36.095461",
     "exception": false,
     "start_time": "2021-06-14T20:18:35.981470",
     "status": "completed"
    },
    "tags": []
   },
   "outputs": [
    {
     "data": {
      "text/html": [
       "<div>\n",
       "<style scoped>\n",
       "    .dataframe tbody tr th:only-of-type {\n",
       "        vertical-align: middle;\n",
       "    }\n",
       "\n",
       "    .dataframe tbody tr th {\n",
       "        vertical-align: top;\n",
       "    }\n",
       "\n",
       "    .dataframe thead th {\n",
       "        text-align: right;\n",
       "    }\n",
       "</style>\n",
       "<table border=\"1\" class=\"dataframe\">\n",
       "  <thead>\n",
       "    <tr style=\"text-align: right;\">\n",
       "      <th></th>\n",
       "      <th>Id</th>\n",
       "      <th>MSSubClass</th>\n",
       "      <th>MSZoning</th>\n",
       "      <th>LotFrontage</th>\n",
       "      <th>LotArea</th>\n",
       "      <th>Street</th>\n",
       "      <th>Alley</th>\n",
       "      <th>LotShape</th>\n",
       "      <th>LandContour</th>\n",
       "      <th>Utilities</th>\n",
       "      <th>...</th>\n",
       "      <th>ScreenPorch</th>\n",
       "      <th>PoolArea</th>\n",
       "      <th>PoolQC</th>\n",
       "      <th>Fence</th>\n",
       "      <th>MiscFeature</th>\n",
       "      <th>MiscVal</th>\n",
       "      <th>MoSold</th>\n",
       "      <th>YrSold</th>\n",
       "      <th>SaleType</th>\n",
       "      <th>SaleCondition</th>\n",
       "    </tr>\n",
       "  </thead>\n",
       "  <tbody>\n",
       "    <tr>\n",
       "      <th>0</th>\n",
       "      <td>1461</td>\n",
       "      <td>20</td>\n",
       "      <td>RH</td>\n",
       "      <td>80.0</td>\n",
       "      <td>11622</td>\n",
       "      <td>Pave</td>\n",
       "      <td>NaN</td>\n",
       "      <td>Reg</td>\n",
       "      <td>Lvl</td>\n",
       "      <td>AllPub</td>\n",
       "      <td>...</td>\n",
       "      <td>120</td>\n",
       "      <td>0</td>\n",
       "      <td>NaN</td>\n",
       "      <td>MnPrv</td>\n",
       "      <td>NaN</td>\n",
       "      <td>0</td>\n",
       "      <td>6</td>\n",
       "      <td>2010</td>\n",
       "      <td>WD</td>\n",
       "      <td>Normal</td>\n",
       "    </tr>\n",
       "    <tr>\n",
       "      <th>1</th>\n",
       "      <td>1462</td>\n",
       "      <td>20</td>\n",
       "      <td>RL</td>\n",
       "      <td>81.0</td>\n",
       "      <td>14267</td>\n",
       "      <td>Pave</td>\n",
       "      <td>NaN</td>\n",
       "      <td>IR1</td>\n",
       "      <td>Lvl</td>\n",
       "      <td>AllPub</td>\n",
       "      <td>...</td>\n",
       "      <td>0</td>\n",
       "      <td>0</td>\n",
       "      <td>NaN</td>\n",
       "      <td>NaN</td>\n",
       "      <td>Gar2</td>\n",
       "      <td>12500</td>\n",
       "      <td>6</td>\n",
       "      <td>2010</td>\n",
       "      <td>WD</td>\n",
       "      <td>Normal</td>\n",
       "    </tr>\n",
       "    <tr>\n",
       "      <th>2</th>\n",
       "      <td>1463</td>\n",
       "      <td>60</td>\n",
       "      <td>RL</td>\n",
       "      <td>74.0</td>\n",
       "      <td>13830</td>\n",
       "      <td>Pave</td>\n",
       "      <td>NaN</td>\n",
       "      <td>IR1</td>\n",
       "      <td>Lvl</td>\n",
       "      <td>AllPub</td>\n",
       "      <td>...</td>\n",
       "      <td>0</td>\n",
       "      <td>0</td>\n",
       "      <td>NaN</td>\n",
       "      <td>MnPrv</td>\n",
       "      <td>NaN</td>\n",
       "      <td>0</td>\n",
       "      <td>3</td>\n",
       "      <td>2010</td>\n",
       "      <td>WD</td>\n",
       "      <td>Normal</td>\n",
       "    </tr>\n",
       "    <tr>\n",
       "      <th>3</th>\n",
       "      <td>1464</td>\n",
       "      <td>60</td>\n",
       "      <td>RL</td>\n",
       "      <td>78.0</td>\n",
       "      <td>9978</td>\n",
       "      <td>Pave</td>\n",
       "      <td>NaN</td>\n",
       "      <td>IR1</td>\n",
       "      <td>Lvl</td>\n",
       "      <td>AllPub</td>\n",
       "      <td>...</td>\n",
       "      <td>0</td>\n",
       "      <td>0</td>\n",
       "      <td>NaN</td>\n",
       "      <td>NaN</td>\n",
       "      <td>NaN</td>\n",
       "      <td>0</td>\n",
       "      <td>6</td>\n",
       "      <td>2010</td>\n",
       "      <td>WD</td>\n",
       "      <td>Normal</td>\n",
       "    </tr>\n",
       "    <tr>\n",
       "      <th>4</th>\n",
       "      <td>1465</td>\n",
       "      <td>120</td>\n",
       "      <td>RL</td>\n",
       "      <td>43.0</td>\n",
       "      <td>5005</td>\n",
       "      <td>Pave</td>\n",
       "      <td>NaN</td>\n",
       "      <td>IR1</td>\n",
       "      <td>HLS</td>\n",
       "      <td>AllPub</td>\n",
       "      <td>...</td>\n",
       "      <td>144</td>\n",
       "      <td>0</td>\n",
       "      <td>NaN</td>\n",
       "      <td>NaN</td>\n",
       "      <td>NaN</td>\n",
       "      <td>0</td>\n",
       "      <td>1</td>\n",
       "      <td>2010</td>\n",
       "      <td>WD</td>\n",
       "      <td>Normal</td>\n",
       "    </tr>\n",
       "  </tbody>\n",
       "</table>\n",
       "<p>5 rows × 80 columns</p>\n",
       "</div>"
      ],
      "text/plain": [
       "     Id  MSSubClass MSZoning  LotFrontage  LotArea Street Alley LotShape  \\\n",
       "0  1461          20       RH         80.0    11622   Pave   NaN      Reg   \n",
       "1  1462          20       RL         81.0    14267   Pave   NaN      IR1   \n",
       "2  1463          60       RL         74.0    13830   Pave   NaN      IR1   \n",
       "3  1464          60       RL         78.0     9978   Pave   NaN      IR1   \n",
       "4  1465         120       RL         43.0     5005   Pave   NaN      IR1   \n",
       "\n",
       "  LandContour Utilities  ... ScreenPorch PoolArea PoolQC  Fence MiscFeature  \\\n",
       "0         Lvl    AllPub  ...         120        0    NaN  MnPrv         NaN   \n",
       "1         Lvl    AllPub  ...           0        0    NaN    NaN        Gar2   \n",
       "2         Lvl    AllPub  ...           0        0    NaN  MnPrv         NaN   \n",
       "3         Lvl    AllPub  ...           0        0    NaN    NaN         NaN   \n",
       "4         HLS    AllPub  ...         144        0    NaN    NaN         NaN   \n",
       "\n",
       "  MiscVal MoSold  YrSold  SaleType  SaleCondition  \n",
       "0       0      6    2010        WD         Normal  \n",
       "1   12500      6    2010        WD         Normal  \n",
       "2       0      3    2010        WD         Normal  \n",
       "3       0      6    2010        WD         Normal  \n",
       "4       0      1    2010        WD         Normal  \n",
       "\n",
       "[5 rows x 80 columns]"
      ]
     },
     "execution_count": 48,
     "metadata": {},
     "output_type": "execute_result"
    }
   ],
   "source": [
    "test.head()"
   ]
  },
  {
   "cell_type": "markdown",
   "id": "numerous-blogger",
   "metadata": {
    "papermill": {
     "duration": 0.085503,
     "end_time": "2021-06-14T20:18:36.266487",
     "exception": false,
     "start_time": "2021-06-14T20:18:36.180984",
     "status": "completed"
    },
    "tags": []
   },
   "source": [
    "Less drop less important featues and columns with null values > 500 "
   ]
  },
  {
   "cell_type": "code",
   "execution_count": 49,
   "id": "talented-ideal",
   "metadata": {
    "execution": {
     "iopub.execute_input": "2021-06-14T20:18:36.442427Z",
     "iopub.status.busy": "2021-06-14T20:18:36.441794Z",
     "iopub.status.idle": "2021-06-14T20:18:36.458882Z",
     "shell.execute_reply": "2021-06-14T20:18:36.458338Z",
     "shell.execute_reply.started": "2021-06-08T10:13:34.374104Z"
    },
    "papermill": {
     "duration": 0.10686,
     "end_time": "2021-06-14T20:18:36.459034",
     "exception": false,
     "start_time": "2021-06-14T20:18:36.352174",
     "status": "completed"
    },
    "tags": []
   },
   "outputs": [],
   "source": [
    "null_values = test.loc[:, test.isnull().sum()>500]\n",
    "test.drop(null_values, axis=1, inplace = True)\n",
    "\n",
    "test.drop(less_important, axis = 1, inplace = True)"
   ]
  },
  {
   "cell_type": "code",
   "execution_count": 50,
   "id": "accepting-calvin",
   "metadata": {
    "execution": {
     "iopub.execute_input": "2021-06-14T20:18:36.638853Z",
     "iopub.status.busy": "2021-06-14T20:18:36.638176Z",
     "iopub.status.idle": "2021-06-14T20:18:36.649411Z",
     "shell.execute_reply": "2021-06-14T20:18:36.648863Z",
     "shell.execute_reply.started": "2021-06-08T10:13:34.392025Z"
    },
    "papermill": {
     "duration": 0.104131,
     "end_time": "2021-06-14T20:18:36.649552",
     "exception": false,
     "start_time": "2021-06-14T20:18:36.545421",
     "status": "completed"
    },
    "tags": []
   },
   "outputs": [
    {
     "data": {
      "text/html": [
       "<div>\n",
       "<style scoped>\n",
       "    .dataframe tbody tr th:only-of-type {\n",
       "        vertical-align: middle;\n",
       "    }\n",
       "\n",
       "    .dataframe tbody tr th {\n",
       "        vertical-align: top;\n",
       "    }\n",
       "\n",
       "    .dataframe thead th {\n",
       "        text-align: right;\n",
       "    }\n",
       "</style>\n",
       "<table border=\"1\" class=\"dataframe\">\n",
       "  <thead>\n",
       "    <tr style=\"text-align: right;\">\n",
       "      <th></th>\n",
       "      <th>0</th>\n",
       "    </tr>\n",
       "  </thead>\n",
       "  <tbody>\n",
       "    <tr>\n",
       "      <th>LotFrontage</th>\n",
       "      <td>227</td>\n",
       "    </tr>\n",
       "    <tr>\n",
       "      <th>LotArea</th>\n",
       "      <td>0</td>\n",
       "    </tr>\n",
       "    <tr>\n",
       "      <th>Neighborhood</th>\n",
       "      <td>0</td>\n",
       "    </tr>\n",
       "    <tr>\n",
       "      <th>Condition1</th>\n",
       "      <td>0</td>\n",
       "    </tr>\n",
       "    <tr>\n",
       "      <th>HouseStyle</th>\n",
       "      <td>0</td>\n",
       "    </tr>\n",
       "    <tr>\n",
       "      <th>OverallQual</th>\n",
       "      <td>0</td>\n",
       "    </tr>\n",
       "    <tr>\n",
       "      <th>YearBuilt</th>\n",
       "      <td>0</td>\n",
       "    </tr>\n",
       "    <tr>\n",
       "      <th>YearRemodAdd</th>\n",
       "      <td>0</td>\n",
       "    </tr>\n",
       "    <tr>\n",
       "      <th>RoofStyle</th>\n",
       "      <td>0</td>\n",
       "    </tr>\n",
       "    <tr>\n",
       "      <th>RoofMatl</th>\n",
       "      <td>0</td>\n",
       "    </tr>\n",
       "    <tr>\n",
       "      <th>Exterior1st</th>\n",
       "      <td>1</td>\n",
       "    </tr>\n",
       "    <tr>\n",
       "      <th>Exterior2nd</th>\n",
       "      <td>1</td>\n",
       "    </tr>\n",
       "    <tr>\n",
       "      <th>MasVnrArea</th>\n",
       "      <td>15</td>\n",
       "    </tr>\n",
       "    <tr>\n",
       "      <th>ExterCond</th>\n",
       "      <td>0</td>\n",
       "    </tr>\n",
       "    <tr>\n",
       "      <th>Foundation</th>\n",
       "      <td>0</td>\n",
       "    </tr>\n",
       "    <tr>\n",
       "      <th>BsmtCond</th>\n",
       "      <td>45</td>\n",
       "    </tr>\n",
       "    <tr>\n",
       "      <th>BsmtFinSF1</th>\n",
       "      <td>1</td>\n",
       "    </tr>\n",
       "    <tr>\n",
       "      <th>BsmtFinType2</th>\n",
       "      <td>42</td>\n",
       "    </tr>\n",
       "    <tr>\n",
       "      <th>BsmtUnfSF</th>\n",
       "      <td>1</td>\n",
       "    </tr>\n",
       "    <tr>\n",
       "      <th>TotalBsmtSF</th>\n",
       "      <td>1</td>\n",
       "    </tr>\n",
       "    <tr>\n",
       "      <th>CentralAir</th>\n",
       "      <td>0</td>\n",
       "    </tr>\n",
       "    <tr>\n",
       "      <th>Electrical</th>\n",
       "      <td>0</td>\n",
       "    </tr>\n",
       "    <tr>\n",
       "      <th>1stFlrSF</th>\n",
       "      <td>0</td>\n",
       "    </tr>\n",
       "    <tr>\n",
       "      <th>2ndFlrSF</th>\n",
       "      <td>0</td>\n",
       "    </tr>\n",
       "    <tr>\n",
       "      <th>GrLivArea</th>\n",
       "      <td>0</td>\n",
       "    </tr>\n",
       "    <tr>\n",
       "      <th>BsmtFullBath</th>\n",
       "      <td>2</td>\n",
       "    </tr>\n",
       "    <tr>\n",
       "      <th>FullBath</th>\n",
       "      <td>0</td>\n",
       "    </tr>\n",
       "    <tr>\n",
       "      <th>HalfBath</th>\n",
       "      <td>0</td>\n",
       "    </tr>\n",
       "    <tr>\n",
       "      <th>BedroomAbvGr</th>\n",
       "      <td>0</td>\n",
       "    </tr>\n",
       "    <tr>\n",
       "      <th>TotRmsAbvGrd</th>\n",
       "      <td>0</td>\n",
       "    </tr>\n",
       "    <tr>\n",
       "      <th>Functional</th>\n",
       "      <td>2</td>\n",
       "    </tr>\n",
       "    <tr>\n",
       "      <th>Fireplaces</th>\n",
       "      <td>0</td>\n",
       "    </tr>\n",
       "    <tr>\n",
       "      <th>GarageYrBlt</th>\n",
       "      <td>78</td>\n",
       "    </tr>\n",
       "    <tr>\n",
       "      <th>GarageCars</th>\n",
       "      <td>1</td>\n",
       "    </tr>\n",
       "    <tr>\n",
       "      <th>GarageArea</th>\n",
       "      <td>1</td>\n",
       "    </tr>\n",
       "    <tr>\n",
       "      <th>GarageQual</th>\n",
       "      <td>78</td>\n",
       "    </tr>\n",
       "    <tr>\n",
       "      <th>GarageCond</th>\n",
       "      <td>78</td>\n",
       "    </tr>\n",
       "    <tr>\n",
       "      <th>PavedDrive</th>\n",
       "      <td>0</td>\n",
       "    </tr>\n",
       "    <tr>\n",
       "      <th>WoodDeckSF</th>\n",
       "      <td>0</td>\n",
       "    </tr>\n",
       "    <tr>\n",
       "      <th>OpenPorchSF</th>\n",
       "      <td>0</td>\n",
       "    </tr>\n",
       "    <tr>\n",
       "      <th>ScreenPorch</th>\n",
       "      <td>0</td>\n",
       "    </tr>\n",
       "    <tr>\n",
       "      <th>SaleCondition</th>\n",
       "      <td>0</td>\n",
       "    </tr>\n",
       "  </tbody>\n",
       "</table>\n",
       "</div>"
      ],
      "text/plain": [
       "                 0\n",
       "LotFrontage    227\n",
       "LotArea          0\n",
       "Neighborhood     0\n",
       "Condition1       0\n",
       "HouseStyle       0\n",
       "OverallQual      0\n",
       "YearBuilt        0\n",
       "YearRemodAdd     0\n",
       "RoofStyle        0\n",
       "RoofMatl         0\n",
       "Exterior1st      1\n",
       "Exterior2nd      1\n",
       "MasVnrArea      15\n",
       "ExterCond        0\n",
       "Foundation       0\n",
       "BsmtCond        45\n",
       "BsmtFinSF1       1\n",
       "BsmtFinType2    42\n",
       "BsmtUnfSF        1\n",
       "TotalBsmtSF      1\n",
       "CentralAir       0\n",
       "Electrical       0\n",
       "1stFlrSF         0\n",
       "2ndFlrSF         0\n",
       "GrLivArea        0\n",
       "BsmtFullBath     2\n",
       "FullBath         0\n",
       "HalfBath         0\n",
       "BedroomAbvGr     0\n",
       "TotRmsAbvGrd     0\n",
       "Functional       2\n",
       "Fireplaces       0\n",
       "GarageYrBlt     78\n",
       "GarageCars       1\n",
       "GarageArea       1\n",
       "GarageQual      78\n",
       "GarageCond      78\n",
       "PavedDrive       0\n",
       "WoodDeckSF       0\n",
       "OpenPorchSF      0\n",
       "ScreenPorch      0\n",
       "SaleCondition    0"
      ]
     },
     "execution_count": 50,
     "metadata": {},
     "output_type": "execute_result"
    }
   ],
   "source": [
    "#checking for null values in test set\n",
    "pd.DataFrame(test.isna().sum())"
   ]
  },
  {
   "cell_type": "code",
   "execution_count": 51,
   "id": "natural-march",
   "metadata": {
    "execution": {
     "iopub.execute_input": "2021-06-14T20:18:36.826154Z",
     "iopub.status.busy": "2021-06-14T20:18:36.825511Z",
     "iopub.status.idle": "2021-06-14T20:18:36.842389Z",
     "shell.execute_reply": "2021-06-14T20:18:36.842855Z",
     "shell.execute_reply.started": "2021-06-08T10:13:34.407145Z"
    },
    "papermill": {
     "duration": 0.106964,
     "end_time": "2021-06-14T20:18:36.843030",
     "exception": false,
     "start_time": "2021-06-14T20:18:36.736066",
     "status": "completed"
    },
    "tags": []
   },
   "outputs": [],
   "source": [
    "# taking care of null values\n",
    "test['LotFrontage'].fillna(test['LotFrontage'].mean(), inplace = True)\n",
    "test['MasVnrArea'].fillna(0 , inplace = True)\n",
    "test['BsmtCond'].fillna('NA' , inplace = True)\n",
    "test['BsmtFinType2'].fillna('NA' , inplace = True)\n",
    "test['Electrical'].fillna('SBrkr' , inplace = True)\n",
    "test['GarageYrBlt'].fillna(0 , inplace = True)\n",
    "test['GarageQual'].fillna('NA' , inplace = True)\n",
    "test['GarageCond'].fillna('NA' , inplace = True)\n",
    "test['Exterior1st'].fillna('VinylSd' , inplace = True)\n",
    "test['Exterior2nd'].fillna('VinylSd' , inplace = True)\n",
    "test['BsmtFinSF1'].fillna(0 , inplace = True)\n",
    "test['BsmtUnfSF'].fillna(0 , inplace = True)\n",
    "test['TotalBsmtSF'].fillna(0 , inplace = True)\n",
    "test['BsmtFullBath'].fillna(0 , inplace = True)\n",
    "test['Functional'].fillna('Typ' , inplace = True)\n",
    "test['GarageCars'].fillna(0 , inplace = True)\n",
    "test['GarageArea'].fillna(0, inplace = True)"
   ]
  },
  {
   "cell_type": "code",
   "execution_count": 52,
   "id": "roman-cartridge",
   "metadata": {
    "execution": {
     "iopub.execute_input": "2021-06-14T20:18:37.020671Z",
     "iopub.status.busy": "2021-06-14T20:18:37.020010Z",
     "iopub.status.idle": "2021-06-14T20:18:37.026009Z",
     "shell.execute_reply": "2021-06-14T20:18:37.026559Z",
     "shell.execute_reply.started": "2021-06-14T20:15:10.213657Z"
    },
    "papermill": {
     "duration": 0.096681,
     "end_time": "2021-06-14T20:18:37.026749",
     "exception": false,
     "start_time": "2021-06-14T20:18:36.930068",
     "status": "completed"
    },
    "tags": []
   },
   "outputs": [],
   "source": [
    "#reducing Skewness and kurtosis\n",
    "test['LotFrontage'] = np.cbrt(test['LotFrontage'])\n",
    "test['GrLivArea']=np.log(test['GrLivArea'])\n",
    "test['LotArea']=np.log(test['LotArea'])"
   ]
  },
  {
   "cell_type": "code",
   "execution_count": 53,
   "id": "sustained-december",
   "metadata": {
    "execution": {
     "iopub.execute_input": "2021-06-14T20:18:37.204553Z",
     "iopub.status.busy": "2021-06-14T20:18:37.203926Z",
     "iopub.status.idle": "2021-06-14T20:18:37.226708Z",
     "shell.execute_reply": "2021-06-14T20:18:37.227193Z",
     "shell.execute_reply.started": "2021-06-08T10:13:34.422332Z"
    },
    "papermill": {
     "duration": 0.113283,
     "end_time": "2021-06-14T20:18:37.227383",
     "exception": false,
     "start_time": "2021-06-14T20:18:37.114100",
     "status": "completed"
    },
    "tags": []
   },
   "outputs": [],
   "source": [
    "#labelencoding test data\n",
    "test = test.apply(LabelEncoder().fit_transform)"
   ]
  },
  {
   "cell_type": "code",
   "execution_count": 54,
   "id": "objective-receiver",
   "metadata": {
    "execution": {
     "iopub.execute_input": "2021-06-14T20:18:37.404226Z",
     "iopub.status.busy": "2021-06-14T20:18:37.403577Z",
     "iopub.status.idle": "2021-06-14T20:18:37.409665Z",
     "shell.execute_reply": "2021-06-14T20:18:37.410148Z",
     "shell.execute_reply.started": "2021-06-08T10:13:34.448571Z"
    },
    "papermill": {
     "duration": 0.096448,
     "end_time": "2021-06-14T20:18:37.410321",
     "exception": false,
     "start_time": "2021-06-14T20:18:37.313873",
     "status": "completed"
    },
    "tags": []
   },
   "outputs": [],
   "source": [
    "#scaling test data\n",
    "test = scale.transform(test)"
   ]
  },
  {
   "cell_type": "code",
   "execution_count": 55,
   "id": "married-conviction",
   "metadata": {
    "execution": {
     "iopub.execute_input": "2021-06-14T20:18:37.585936Z",
     "iopub.status.busy": "2021-06-14T20:18:37.585294Z",
     "iopub.status.idle": "2021-06-14T20:18:37.611971Z",
     "shell.execute_reply": "2021-06-14T20:18:37.612562Z",
     "shell.execute_reply.started": "2021-06-08T10:13:34.456065Z"
    },
    "papermill": {
     "duration": 0.116229,
     "end_time": "2021-06-14T20:18:37.612779",
     "exception": false,
     "start_time": "2021-06-14T20:18:37.496550",
     "status": "completed"
    },
    "tags": []
   },
   "outputs": [],
   "source": [
    "#making prediction\n",
    "predictions = xgb.predict(test)"
   ]
  },
  {
   "cell_type": "markdown",
   "id": "specific-haven",
   "metadata": {
    "papermill": {
     "duration": 0.085898,
     "end_time": "2021-06-14T20:18:37.787520",
     "exception": false,
     "start_time": "2021-06-14T20:18:37.701622",
     "status": "completed"
    },
    "tags": []
   },
   "source": [
    "### Creating submission file for Kaggle"
   ]
  },
  {
   "cell_type": "code",
   "execution_count": 56,
   "id": "convertible-stick",
   "metadata": {
    "execution": {
     "iopub.execute_input": "2021-06-14T20:18:38.017813Z",
     "iopub.status.busy": "2021-06-14T20:18:38.017122Z",
     "iopub.status.idle": "2021-06-14T20:18:38.043438Z",
     "shell.execute_reply": "2021-06-14T20:18:38.043918Z",
     "shell.execute_reply.started": "2021-06-08T10:13:34.493077Z"
    },
    "papermill": {
     "duration": 0.170196,
     "end_time": "2021-06-14T20:18:38.044104",
     "exception": false,
     "start_time": "2021-06-14T20:18:37.873908",
     "status": "completed"
    },
    "tags": []
   },
   "outputs": [],
   "source": [
    "sample_sub = pd.read_csv(\"../input/house-prices-advanced-regression-techniques/sample_submission.csv\")\n",
    "final_data = {'Id': sample_sub.Id, 'SalePrice': predictions}\n",
    "final_submission = pd.DataFrame(data=final_data)\n",
    "final_submission.to_csv('submission_file.csv',index =False)"
   ]
  }
 ],
 "metadata": {
  "kernelspec": {
   "display_name": "Python 3",
   "language": "python",
   "name": "python3"
  },
  "language_info": {
   "codemirror_mode": {
    "name": "ipython",
    "version": 3
   },
   "file_extension": ".py",
   "mimetype": "text/x-python",
   "name": "python",
   "nbconvert_exporter": "python",
   "pygments_lexer": "ipython3",
   "version": "3.7.6"
  },
  "papermill": {
   "default_parameters": {},
   "duration": 195.789443,
   "end_time": "2021-06-14T20:18:39.116750",
   "environment_variables": {},
   "exception": null,
   "input_path": "__notebook__.ipynb",
   "output_path": "__notebook__.ipynb",
   "parameters": {},
   "start_time": "2021-06-14T20:15:23.327307",
   "version": "2.3.3"
  }
 },
 "nbformat": 4,
 "nbformat_minor": 5
}
